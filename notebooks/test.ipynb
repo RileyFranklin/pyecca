{
 "cells": [
  {
   "cell_type": "code",
   "execution_count": 1,
   "id": "ada3208f-f6b2-4333-bcdc-f3a20dd6b087",
   "metadata": {},
   "outputs": [],
   "source": [
    "import numpy as np\n",
    "import symforce\n",
    "symforce.set_epsilon_to_symbol()\n",
    "from symforce.values import Values\n",
    "from symforce.opt.factor import Factor\n",
    "import symforce.symbolic as sf\n"
   ]
  },
  {
   "cell_type": "code",
   "execution_count": 16,
   "id": "75d398a2-2498-4051-a7f4-17911315665d",
   "metadata": {},
   "outputs": [
    {
     "name": "stdout",
     "output_type": "stream",
     "text": [
      "Values(\n",
      "  poses: [[0.0]\n",
      "[0.0]\n",
      ", [1.98]\n",
      "[0.001]\n",
      "],\n",
      "  landmarks: [[0.0]\n",
      "[2.0]\n",
      ", [4.0]\n",
      "[6.0]\n",
      ", [9.0]\n",
      "[1.0]\n",
      ", [4.0]\n",
      "[2.0]\n",
      ", [9.0]\n",
      "[1.5]\n",
      ", [9.0]\n",
      "[10.0]\n",
      ", [-5.0]\n",
      "[15.0]\n",
      ", [-7.0]\n",
      "[15.0]\n",
      "],\n",
      "  odom: [[1.98e+00 1.00e-03]],\n",
      "  meas: [[2.]],\n",
      "  epsilon: 2.220446049250313e-15,\n",
      ")\n"
     ]
    }
   ],
   "source": [
    "num_landmarks = 3\n",
    "lm =np.array([\n",
    "        [0, 2],\n",
    "        [4, 6],\n",
    "        [9, 1],\n",
    "        [4,2],\n",
    "        [9, 1.5],\n",
    "        [9,10],\n",
    "        [-5,15],\n",
    "        [-7,15],])\n",
    "x=np.array([[0,0],\n",
    "             [1.98,.001]])\n",
    "odom=np.array([[1.98,.001]])\n",
    "\n",
    "# Maybe do range, bearing, pose, landmark\n",
    "z = np.array([[2,1.57079633,0,0]])\n",
    "\n",
    "initial_values = Values(\n",
    "    poses=[sf.V2(i,j) for i,j in x],\n",
    "    landmarks=[sf.V2(i,j) for i,j in lm],\n",
    "    odom=odom,\n",
    "    meas=z[:,0:1],\n",
    "    epsilon=sf.numeric_epsilon,\n",
    ")\n",
    "print(initial_values)"
   ]
  },
  {
   "cell_type": "code",
   "execution_count": 17,
   "id": "3b287b28-ffdb-4e17-a57a-ed0448c550cb",
   "metadata": {},
   "outputs": [],
   "source": [
    "def bearing_residual(\n",
    "    pose: sf.Pose2, landmark: sf.V2, angle: sf.Scalar, epsilon: sf.Scalar\n",
    ") -> sf.V1:\n",
    "    t_body = pose.inverse() * landmark\n",
    "    predicted_angle = sf.atan2(t_body[1], t_body[0], epsilon=epsilon)\n",
    "    return sf.V1(sf.wrap_angle(predicted_angle - angle))"
   ]
  },
  {
   "cell_type": "code",
   "execution_count": 18,
   "id": "72d10697-2ec5-423d-a0b0-ac20cae8acad",
   "metadata": {},
   "outputs": [],
   "source": [
    "def range_residual(\n",
    "    pose: sf.Pose2, landmark: sf.V2, angle: sf.Scalar, epsilon: sf.Scalar\n",
    ") -> sf.V1:\n",
    "    t_body = pose.inverse() * landmark\n",
    "    predicted_angle = sf.atan2(t_body[1], t_body[0], epsilon=epsilon)\n",
    "    return sf.V1(sf.wrap_angle(predicted_angle - angle))"
   ]
  },
  {
   "cell_type": "code",
   "execution_count": 19,
   "id": "b9bf3b74-ae17-48d8-8dee-351915476a90",
   "metadata": {},
   "outputs": [],
   "source": [
    "def meas_residual(\n",
    "    pose: sf.V2, landmark: sf.V2, meas: sf.V2, epsilon: sf.Scalar, \n",
    ") -> sf.V1:\n",
    "    \n",
    "    Q = np.array([[0.0,0.0],[0.0,0.0]]) \n",
    "    rng_std = .5\n",
    "    bearing_std = .5\n",
    "    Q[0, 0] = rng_std**2\n",
    "    Q[1, 1] = bearing_std**2\n",
    "    \n",
    "    Q_I = np.linalg.inv(Q)\n",
    "    \n",
    "    rng, bearing = meas\n",
    "    # predicted measurement\n",
    "    dm = sf.V2(landmark - pose)\n",
    "    z_pred = sf.V2([[dm.norm(epsilon=epsilon)],[sf.atan2(dm[1], dm[0],epsilon=epsilon)]])\n",
    "    print(z_pred)\n",
    "\n",
    "    # error\n",
    "    e_z = meas - z_pred\n",
    "    # cost\n",
    "    J = e_z@Q_I@e_z.T\n",
    "\n",
    "    return sf.V1(J)"
   ]
  },
  {
   "cell_type": "code",
   "execution_count": 20,
   "id": "e94ba19f-e2fd-425c-a171-b6694046685b",
   "metadata": {},
   "outputs": [],
   "source": [
    "def odometry_residual(\n",
    "    pose_0: sf.V2, pose_1: sf.V2, odom: sf.V2, epsilon: sf.Scalar, \n",
    ") -> sf.V1:\n",
    "    \n",
    "    R = np.array([[0.0,0.0],[0.0,0.0]]) \n",
    "    odom_x_std = 3\n",
    "    odom_y_std = 3\n",
    "    R[0, 0] = odom_x_std**2\n",
    "    R[1, 1] = odom_y_std**2\n",
    "    R_I = np.linalg.inv(R)\n",
    "    \n",
    "    odom_pred = pose_1-pose_0    # error\n",
    "    e_x = sf.V2(odom-odom_pred)\n",
    "    # cost\n",
    "    J = e_x@R_I@e_x.T\n",
    "    print(J)\n",
    "    return sf.V1(J)"
   ]
  },
  {
   "cell_type": "code",
   "execution_count": 21,
   "id": "449b063f-8b64-4808-9154-015be0fb2cdb",
   "metadata": {},
   "outputs": [
    {
     "name": "stdout",
     "output_type": "stream",
     "text": [
      "[sqrt(epsilon + (landmark0 - pose0)**2 + (landmark1 - pose1)**2)]\n",
      "[atan2(landmark1 - pose1, landmark0 - pose0 + epsilon*(0.5 + sign(landmark0 - pose0)))]\n",
      "\n",
      "0.111111111111111*(odom0 - (-pose_00 + pose_10))**2 + 0.111111111111111*(odom1 - (-pose_01 + pose_11))**2\n",
      "[<symforce.opt.factor.Factor object at 0x7fbd46d46440>, <symforce.opt.factor.Factor object at 0x7fbd46d45ed0>]\n"
     ]
    }
   ],
   "source": [
    "from symforce.opt.factor import Factor\n",
    "\n",
    "factors = []\n",
    "\n",
    "# Bearing factors\n",
    "\n",
    "for j in range(len(z)):\n",
    "    factors.append(Factor(\n",
    "        residual=meas_residual,\n",
    "        keys=[f\"poses[{z[j][2]}]\", f\"landmarks[{z[j][3]}]\", f\"meas[{j}]\", \"epsilon\"],\n",
    "    ))\n",
    "\n",
    "# Odometry factors\n",
    "for i in range(len(x) - 1):\n",
    "    factors.append(Factor(\n",
    "        residual=odometry_residual,\n",
    "        keys=[f\"poses[{i}]\", f\"poses[{i + 1}]\", f\"odom[{i}]\", \"epsilon\"],\n",
    "    ))\n",
    "print(factors)"
   ]
  },
  {
   "cell_type": "code",
   "execution_count": 23,
   "id": "87dd3e2d-a5cd-45b4-8ef9-cc6b82599a10",
   "metadata": {},
   "outputs": [
    {
     "ename": "AssertionError",
     "evalue": "Cannot compute a linearization with respect to 0 arguments",
     "output_type": "error",
     "traceback": [
      "\u001b[0;31m---------------------------------------------------------------------------\u001b[0m",
      "\u001b[0;31mAssertionError\u001b[0m                            Traceback (most recent call last)",
      "Input \u001b[0;32mIn [23]\u001b[0m, in \u001b[0;36m<cell line: 3>\u001b[0;34m()\u001b[0m\n\u001b[1;32m      1\u001b[0m \u001b[38;5;28;01mfrom\u001b[39;00m \u001b[38;5;21;01msymforce\u001b[39;00m\u001b[38;5;21;01m.\u001b[39;00m\u001b[38;5;21;01mopt\u001b[39;00m\u001b[38;5;21;01m.\u001b[39;00m\u001b[38;5;21;01moptimizer\u001b[39;00m \u001b[38;5;28;01mimport\u001b[39;00m Optimizer\n\u001b[0;32m----> 3\u001b[0m optimizer \u001b[38;5;241m=\u001b[39m \u001b[43mOptimizer\u001b[49m\u001b[43m(\u001b[49m\n\u001b[1;32m      4\u001b[0m \u001b[43m    \u001b[49m\u001b[43mfactors\u001b[49m\u001b[38;5;241;43m=\u001b[39;49m\u001b[43mfactors\u001b[49m\u001b[43m,\u001b[49m\n\u001b[1;32m      5\u001b[0m \u001b[43m    \u001b[49m\u001b[43moptimized_keys\u001b[49m\u001b[38;5;241;43m=\u001b[39;49m\u001b[43m[\u001b[49m\u001b[38;5;124;43mf\u001b[39;49m\u001b[38;5;124;43m\"\u001b[39;49m\u001b[38;5;124;43mpose[\u001b[39;49m\u001b[38;5;132;43;01m{\u001b[39;49;00m\u001b[43mi\u001b[49m\u001b[38;5;132;43;01m}\u001b[39;49;00m\u001b[38;5;124;43m]\u001b[39;49m\u001b[38;5;124;43m\"\u001b[39;49m\u001b[43m \u001b[49m\u001b[38;5;28;43;01mfor\u001b[39;49;00m\u001b[43m \u001b[49m\u001b[43mi\u001b[49m\u001b[43m \u001b[49m\u001b[38;5;129;43;01min\u001b[39;49;00m\u001b[43m \u001b[49m\u001b[38;5;28;43mrange\u001b[39;49m\u001b[43m(\u001b[49m\u001b[38;5;241;43m1\u001b[39;49m\u001b[43m)\u001b[49m\u001b[43m]\u001b[49m\u001b[43m,\u001b[49m\n\u001b[1;32m      6\u001b[0m \u001b[43m)\u001b[49m\n",
      "File \u001b[0;32m~/.local/lib/python3.10/site-packages/symforce/opt/optimizer.py:165\u001b[0m, in \u001b[0;36mOptimizer.__init__\u001b[0;34m(self, factors, optimized_keys, params, debug_stats)\u001b[0m\n\u001b[1;32m    162\u001b[0m     \u001b[38;5;66;03m# We compute the linearization in the same order as `optimized_keys`\u001b[39;00m\n\u001b[1;32m    163\u001b[0m     \u001b[38;5;66;03m# so that e.g. columns of the generated jacobians are in the same order\u001b[39;00m\n\u001b[1;32m    164\u001b[0m     factor_opt_keys \u001b[38;5;241m=\u001b[39m [opt_key \u001b[38;5;28;01mfor\u001b[39;00m opt_key \u001b[38;5;129;01min\u001b[39;00m optimized_keys \u001b[38;5;28;01mif\u001b[39;00m opt_key \u001b[38;5;129;01min\u001b[39;00m factor\u001b[38;5;241m.\u001b[39mkeys]\n\u001b[0;32m--> 165\u001b[0m     numeric_factors\u001b[38;5;241m.\u001b[39mappend(\u001b[43mfactor\u001b[49m\u001b[38;5;241;43m.\u001b[39;49m\u001b[43mto_numeric_factor\u001b[49m\u001b[43m(\u001b[49m\u001b[43mfactor_opt_keys\u001b[49m\u001b[43m)\u001b[49m)\n\u001b[1;32m    166\u001b[0m \u001b[38;5;28;01melse\u001b[39;00m:\n\u001b[1;32m    167\u001b[0m     \u001b[38;5;66;03m# Add unique keys to optimized keys\u001b[39;00m\n\u001b[1;32m    168\u001b[0m     \u001b[38;5;28mself\u001b[39m\u001b[38;5;241m.\u001b[39moptimized_keys\u001b[38;5;241m.\u001b[39mextend(\n\u001b[1;32m    169\u001b[0m         opt_key\n\u001b[1;32m    170\u001b[0m         \u001b[38;5;28;01mfor\u001b[39;00m opt_key \u001b[38;5;129;01min\u001b[39;00m factor\u001b[38;5;241m.\u001b[39moptimized_keys\n\u001b[1;32m    171\u001b[0m         \u001b[38;5;28;01mif\u001b[39;00m opt_key \u001b[38;5;129;01mnot\u001b[39;00m \u001b[38;5;129;01min\u001b[39;00m \u001b[38;5;28mself\u001b[39m\u001b[38;5;241m.\u001b[39moptimized_keys\n\u001b[1;32m    172\u001b[0m     )\n",
      "File \u001b[0;32m~/.local/lib/python3.10/site-packages/symforce/opt/factor.py:262\u001b[0m, in \u001b[0;36mFactor.to_numeric_factor\u001b[0;34m(self, optimized_keys, output_dir, namespace, sparse_linearization)\u001b[0m\n\u001b[1;32m    259\u001b[0m     namespace \u001b[38;5;241m=\u001b[39m \u001b[38;5;124mf\u001b[39m\u001b[38;5;124m\"\u001b[39m\u001b[38;5;124msym_\u001b[39m\u001b[38;5;132;01m{\u001b[39;00muuid\u001b[38;5;241m.\u001b[39muuid4()\u001b[38;5;241m.\u001b[39mhex\u001b[38;5;132;01m}\u001b[39;00m\u001b[38;5;124m\"\u001b[39m\n\u001b[1;32m    261\u001b[0m \u001b[38;5;66;03m# Compute the linearization of the residual and generate code\u001b[39;00m\n\u001b[0;32m--> 262\u001b[0m output_data \u001b[38;5;241m=\u001b[39m \u001b[38;5;28;43mself\u001b[39;49m\u001b[38;5;241;43m.\u001b[39;49m\u001b[43mgenerate\u001b[49m\u001b[43m(\u001b[49m\u001b[43moptimized_keys\u001b[49m\u001b[43m,\u001b[49m\u001b[43m \u001b[49m\u001b[43moutput_dir\u001b[49m\u001b[43m,\u001b[49m\u001b[43m \u001b[49m\u001b[43mnamespace\u001b[49m\u001b[43m,\u001b[49m\u001b[43m \u001b[49m\u001b[43msparse_linearization\u001b[49m\u001b[43m)\u001b[49m\n\u001b[1;32m    264\u001b[0m \u001b[38;5;66;03m# Load the generated function\u001b[39;00m\n\u001b[1;32m    265\u001b[0m numeric_factor \u001b[38;5;241m=\u001b[39m NumericFactor\u001b[38;5;241m.\u001b[39mfrom_file_python(\n\u001b[1;32m    266\u001b[0m     keys\u001b[38;5;241m=\u001b[39m\u001b[38;5;28mself\u001b[39m\u001b[38;5;241m.\u001b[39mkeys,\n\u001b[1;32m    267\u001b[0m     optimized_keys\u001b[38;5;241m=\u001b[39moptimized_keys,\n\u001b[0;32m   (...)\u001b[0m\n\u001b[1;32m    270\u001b[0m     name\u001b[38;5;241m=\u001b[39moutput_data[\u001b[38;5;124m\"\u001b[39m\u001b[38;5;124mname\u001b[39m\u001b[38;5;124m\"\u001b[39m],\n\u001b[1;32m    271\u001b[0m )\n",
      "File \u001b[0;32m~/.local/lib/python3.10/site-packages/symforce/opt/factor.py:178\u001b[0m, in \u001b[0;36mFactor.generate\u001b[0;34m(self, optimized_keys, output_dir, namespace, sparse_linearization)\u001b[0m\n\u001b[1;32m    175\u001b[0m     namespace \u001b[38;5;241m=\u001b[39m \u001b[38;5;124mf\u001b[39m\u001b[38;5;124m\"\u001b[39m\u001b[38;5;124msym_\u001b[39m\u001b[38;5;132;01m{\u001b[39;00muuid\u001b[38;5;241m.\u001b[39muuid4()\u001b[38;5;241m.\u001b[39mhex\u001b[38;5;132;01m}\u001b[39;00m\u001b[38;5;124m\"\u001b[39m\n\u001b[1;32m    177\u001b[0m codegen_keys \u001b[38;5;241m=\u001b[39m \u001b[38;5;28mlist\u001b[39m(\u001b[38;5;28mself\u001b[39m\u001b[38;5;241m.\u001b[39mcodegen\u001b[38;5;241m.\u001b[39minputs\u001b[38;5;241m.\u001b[39mkeys())\n\u001b[0;32m--> 178\u001b[0m codegen_with_linearization \u001b[38;5;241m=\u001b[39m \u001b[38;5;28;43mself\u001b[39;49m\u001b[38;5;241;43m.\u001b[39;49m\u001b[43mcodegen\u001b[49m\u001b[38;5;241;43m.\u001b[39;49m\u001b[43mwith_linearization\u001b[49m\u001b[43m(\u001b[49m\n\u001b[1;32m    179\u001b[0m \u001b[43m    \u001b[49m\u001b[43mwhich_args\u001b[49m\u001b[38;5;241;43m=\u001b[39;49m\u001b[43m[\u001b[49m\u001b[43mcodegen_keys\u001b[49m\u001b[43m[\u001b[49m\u001b[38;5;28;43mself\u001b[39;49m\u001b[38;5;241;43m.\u001b[39;49m\u001b[43mkeys\u001b[49m\u001b[38;5;241;43m.\u001b[39;49m\u001b[43mindex\u001b[49m\u001b[43m(\u001b[49m\u001b[43mkey\u001b[49m\u001b[43m)\u001b[49m\u001b[43m]\u001b[49m\u001b[43m \u001b[49m\u001b[38;5;28;43;01mfor\u001b[39;49;00m\u001b[43m \u001b[49m\u001b[43mkey\u001b[49m\u001b[43m \u001b[49m\u001b[38;5;129;43;01min\u001b[39;49;00m\u001b[43m \u001b[49m\u001b[43moptimized_keys\u001b[49m\u001b[43m]\u001b[49m\u001b[43m,\u001b[49m\n\u001b[1;32m    180\u001b[0m \u001b[43m    \u001b[49m\u001b[43mcustom_jacobian\u001b[49m\u001b[38;5;241;43m=\u001b[39;49m\u001b[38;5;28;43mself\u001b[39;49m\u001b[38;5;241;43m.\u001b[39;49m\u001b[43mcustom_jacobian_func\u001b[49m\u001b[43m(\u001b[49m\u001b[43moptimized_keys\u001b[49m\u001b[43m)\u001b[49m\n\u001b[1;32m    181\u001b[0m \u001b[43m    \u001b[49m\u001b[38;5;28;43;01mif\u001b[39;49;00m\u001b[43m \u001b[49m\u001b[38;5;28;43mself\u001b[39;49m\u001b[38;5;241;43m.\u001b[39;49m\u001b[43mcustom_jacobian_func\u001b[49m\u001b[43m \u001b[49m\u001b[38;5;129;43;01mis\u001b[39;49;00m\u001b[43m \u001b[49m\u001b[38;5;129;43;01mnot\u001b[39;49;00m\u001b[43m \u001b[49m\u001b[38;5;28;43;01mNone\u001b[39;49;00m\n\u001b[1;32m    182\u001b[0m \u001b[43m    \u001b[49m\u001b[38;5;28;43;01melse\u001b[39;49;00m\u001b[43m \u001b[49m\u001b[38;5;28;43;01mNone\u001b[39;49;00m\u001b[43m,\u001b[49m\n\u001b[1;32m    183\u001b[0m \u001b[43m    \u001b[49m\u001b[43msparse_linearization\u001b[49m\u001b[38;5;241;43m=\u001b[39;49m\u001b[43msparse_linearization\u001b[49m\u001b[43m,\u001b[49m\n\u001b[1;32m    184\u001b[0m \u001b[43m\u001b[49m\u001b[43m)\u001b[49m\n\u001b[1;32m    185\u001b[0m \u001b[38;5;66;03m# Ignore false positive because we define `self.jacobian` in `_initialize()`\u001b[39;00m\n\u001b[1;32m    186\u001b[0m \u001b[38;5;66;03m# pylint: disable=attribute-defined-outside-init\u001b[39;00m\n\u001b[1;32m    187\u001b[0m \u001b[38;5;28mself\u001b[39m\u001b[38;5;241m.\u001b[39mgenerated_jacobians[\u001b[38;5;28mtuple\u001b[39m(optimized_keys)] \u001b[38;5;241m=\u001b[39m codegen_with_linearization\u001b[38;5;241m.\u001b[39moutputs[\n\u001b[1;32m    188\u001b[0m     \u001b[38;5;124m\"\u001b[39m\u001b[38;5;124mjacobian\u001b[39m\u001b[38;5;124m\"\u001b[39m\n\u001b[1;32m    189\u001b[0m ]\n",
      "File \u001b[0;32m~/.local/lib/python3.10/site-packages/symforce/codegen/codegen.py:658\u001b[0m, in \u001b[0;36mCodegen.with_linearization\u001b[0;34m(self, which_args, include_result, name, linearization_mode, sparse_linearization, custom_jacobian)\u001b[0m\n\u001b[1;32m    655\u001b[0m \u001b[38;5;28;01mif\u001b[39;00m which_args \u001b[38;5;129;01mis\u001b[39;00m \u001b[38;5;28;01mNone\u001b[39;00m:\n\u001b[1;32m    656\u001b[0m     which_args \u001b[38;5;241m=\u001b[39m \u001b[38;5;28mlist\u001b[39m(\u001b[38;5;28mself\u001b[39m\u001b[38;5;241m.\u001b[39minputs\u001b[38;5;241m.\u001b[39mkeys())\n\u001b[0;32m--> 658\u001b[0m \u001b[38;5;28;01massert\u001b[39;00m which_args, \u001b[38;5;124m\"\u001b[39m\u001b[38;5;124mCannot compute a linearization with respect to 0 arguments\u001b[39m\u001b[38;5;124m\"\u001b[39m\n\u001b[1;32m    660\u001b[0m \u001b[38;5;66;03m# Ensure the previous codegen has one output\u001b[39;00m\n\u001b[1;32m    661\u001b[0m \u001b[38;5;28;01massert\u001b[39;00m \u001b[38;5;28mlen\u001b[39m(\u001b[38;5;28mlist\u001b[39m(\u001b[38;5;28mself\u001b[39m\u001b[38;5;241m.\u001b[39moutputs\u001b[38;5;241m.\u001b[39mkeys())) \u001b[38;5;241m==\u001b[39m \u001b[38;5;241m1\u001b[39m\n",
      "\u001b[0;31mAssertionError\u001b[0m: Cannot compute a linearization with respect to 0 arguments"
     ]
    }
   ],
   "source": [
    "from symforce.opt.optimizer import Optimizer\n",
    "\n",
    "optimizer = Optimizer(\n",
    "    factors=factors,\n",
    "    optimized_keys=[f\"pose[{i}]\" for i in range(1)],\n",
    ")"
   ]
  },
  {
   "cell_type": "code",
   "execution_count": 79,
   "id": "e401e560-3877-41e0-8ee7-af41b3faac2a",
   "metadata": {},
   "outputs": [
    {
     "ename": "NameError",
     "evalue": "name 'optimizer' is not defined",
     "output_type": "error",
     "traceback": [
      "\u001b[0;31m---------------------------------------------------------------------------\u001b[0m",
      "\u001b[0;31mNameError\u001b[0m                                 Traceback (most recent call last)",
      "Input \u001b[0;32mIn [79]\u001b[0m, in \u001b[0;36m<cell line: 1>\u001b[0;34m()\u001b[0m\n\u001b[0;32m----> 1\u001b[0m result \u001b[38;5;241m=\u001b[39m \u001b[43moptimizer\u001b[49m\u001b[38;5;241m.\u001b[39moptimize(initial_values)\n",
      "\u001b[0;31mNameError\u001b[0m: name 'optimizer' is not defined"
     ]
    }
   ],
   "source": [
    "result = optimizer.optimize(initial_values)"
   ]
  },
  {
   "cell_type": "code",
   "execution_count": 80,
   "id": "a667cbd3-6821-4c2e-9243-11bd0d765035",
   "metadata": {},
   "outputs": [
    {
     "ename": "NameError",
     "evalue": "name 'optimizer' is not defined",
     "output_type": "error",
     "traceback": [
      "\u001b[0;31m---------------------------------------------------------------------------\u001b[0m",
      "\u001b[0;31mNameError\u001b[0m                                 Traceback (most recent call last)",
      "Input \u001b[0;32mIn [80]\u001b[0m, in \u001b[0;36m<cell line: 2>\u001b[0;34m()\u001b[0m\n\u001b[1;32m      1\u001b[0m \u001b[38;5;28;01mfrom\u001b[39;00m \u001b[38;5;21;01msymforce\u001b[39;00m\u001b[38;5;21;01m.\u001b[39;00m\u001b[38;5;21;01mexamples\u001b[39;00m\u001b[38;5;21;01m.\u001b[39;00m\u001b[38;5;21;01mrobot_2d_localization\u001b[39;00m\u001b[38;5;21;01m.\u001b[39;00m\u001b[38;5;21;01mplotting\u001b[39;00m \u001b[38;5;28;01mimport\u001b[39;00m plot_solution\n\u001b[0;32m----> 2\u001b[0m plot_solution(\u001b[43moptimizer\u001b[49m, result)\n",
      "\u001b[0;31mNameError\u001b[0m: name 'optimizer' is not defined"
     ]
    }
   ],
   "source": [
    "from symforce.examples.robot_2d_localization.plotting import plot_solution\n",
    "plot_solution(optimizer, result)"
   ]
  },
  {
   "cell_type": "code",
   "execution_count": null,
   "id": "26c7b6c0-c78f-472a-8b83-5349531987f6",
   "metadata": {},
   "outputs": [],
   "source": [
    "def data_association(x: np.array, z: np.array, landmarks: np.array):\n",
    "    \"\"\"\n",
    "    Associates measurement with known landmarks using maximum likelihood\n",
    "    \n",
    "    @param x: state of vehicle\n",
    "    @param z: measurement\n",
    "    @param landmarks: map of known landmarks\n",
    "    \"\"\"\n",
    "    dm = np.array(landmarks) - np.array(x)\n",
    "    print(dm)\n",
    "    rng_pred = np.linalg.norm(dm, axis=1)\n",
    "    bearing_pred = np.arctan2(dm[:, 1], dm[:, 0])    \n",
    "    z_error_list = np.array([rng_pred, bearing_pred]).T - np.array([z])\n",
    "    # TODO: Make an actual number. Covariance of the measurement\n",
    "    Q = np.array([\n",
    "        [1, 0],\n",
    "        [0, 1]])\n",
    "    Q_I = np.linalg.inv(Q)\n",
    "    J_list = []\n",
    "    for z_error in z_error_list:\n",
    "        J_list.append(z_error.T@Q_I@z_error)\n",
    "    J_list = np.array(J_list)\n",
    "    i = np.argmin(J_list)\n",
    "    return i"
   ]
  },
  {
   "cell_type": "code",
   "execution_count": null,
   "id": "93593a12-74f8-4a6b-93d9-c6a912f75337",
   "metadata": {},
   "outputs": [],
   "source": []
  }
 ],
 "metadata": {
  "kernelspec": {
   "display_name": "Python 3 (ipykernel)",
   "language": "python",
   "name": "python3"
  },
  "language_info": {
   "codemirror_mode": {
    "name": "ipython",
    "version": 3
   },
   "file_extension": ".py",
   "mimetype": "text/x-python",
   "name": "python",
   "nbconvert_exporter": "python",
   "pygments_lexer": "ipython3",
   "version": "3.10.6"
  }
 },
 "nbformat": 4,
 "nbformat_minor": 5
}
