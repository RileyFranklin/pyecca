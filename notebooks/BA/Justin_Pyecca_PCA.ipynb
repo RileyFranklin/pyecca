{
 "cells": [
  {
   "cell_type": "markdown",
   "id": "bb30e6d2-77c5-42a8-818a-ccefa29ab542",
   "metadata": {
    "tags": []
   },
   "source": [
    "# Justin's Pyecca Point-Cloud Alignment (JPPCA)\n",
    "\n",
    "Uses Casadi to optimize the transformation matrix T that minizies pointcloud measurement error. Uses pyecca to optimize the lie algebra se(3) elements."
   ]
  },
  {
   "cell_type": "markdown",
   "id": "358d4613-f760-46a8-869a-c36e2f3cea3b",
   "metadata": {},
   "source": [
    "# Problem Definition\n",
    "Feature location definition:\n",
    "$ \\\\ P_k = \\begin{bmatrix}  x \\\\ y \\\\ z \\\\ 1 \\end{bmatrix} \\approx p_{k,0}$\n",
    "\n",
    "Measurement of feature $k$ at pose $j$:\n",
    "$ \\\\ p_{k,j} $\n",
    "\n",
    "Transformation from pose $j$ to $j+1$:\n",
    "$ \\\\ T_{j,j+1} $\n",
    "\n",
    "Measurement error definition between poses $j$ and $j+1$ for feature $k$:\n",
    "$ \\\\ e_{k,j+1} = p_{k,j+1} - T_{j,j+1}*p_{k,j} $\n",
    "\n",
    "Cost function $J$:\n",
    "$ \\\\ J(T_{j,j+1}) = \\sum\\limits_{k} e_{k,j+1}^T*Q*e_{k,j+1}$\n",
    "\n",
    "So for pose $0$ to pose $1$:\n",
    "$ \\\\ J(T_{0,1}) = \\sum\\limits_{k} e_{k,1}^T*Q*e_{k,1} = \\sum\\limits_{k} (p_{k,1} - T_{0,1}*p_{k,0})^T*Q*(p_{k,1} - T_{0,1}*p_{k,0})$"
   ]
  },
  {
   "cell_type": "code",
   "execution_count": 1,
   "id": "23a97a6a-f1ce-45fb-b7a8-2ea6e877c5e5",
   "metadata": {},
   "outputs": [],
   "source": [
    "%load_ext autoreload\n",
    "%autoreload 2\n",
    "import matplotlib.pyplot as plt\n",
    "%matplotlib qt\n",
    "import numpy as np\n",
    "import casadi as ca\n",
    "import time\n",
    "import BF_PCA"
   ]
  },
  {
   "cell_type": "code",
   "execution_count": 2,
   "id": "13196c39-318f-4667-ac48-588fc72fe32e",
   "metadata": {},
   "outputs": [
    {
     "data": {
      "text/plain": [
       "SX([u, v, w, omega1, omega2, omega3])"
      ]
     },
     "execution_count": 2,
     "metadata": {},
     "output_type": "execute_result"
    }
   ],
   "source": [
    "# Define symbolic variables used for optimization\n",
    "trans_sym = ca.vertcat(ca.SX.sym('u'), ca.SX.sym('v'), ca.SX.sym('w'))\n",
    "angles_sym = ca.vertcat(ca.SX.sym('omega1'), ca.SX.sym('omega2'), ca.SX.sym('omega3'))\n",
    "all_sym = ca.vertcat(trans_sym, angles_sym)\n",
    "all_sym"
   ]
  },
  {
   "cell_type": "code",
   "execution_count": 3,
   "id": "96bfe4de-57d5-4c65-986b-edc5ebc2135d",
   "metadata": {},
   "outputs": [
    {
     "name": "stdout",
     "output_type": "stream",
     "text": [
      "T_01_true: [[ 0.47415988 -0.67261892 -0.56811636  0.        ]\n",
      " [ 0.73846026 -0.0475419   0.67261892  0.        ]\n",
      " [-0.47942554 -0.73846026  0.47415988  0.        ]\n",
      " [ 0.          0.          0.          1.        ]]\n",
      "points_0: [[1 0 0]\n",
      " [0 1 0]\n",
      " [0 0 1]\n",
      " [1 0 1]\n",
      " [0 1 1]\n",
      " [1 1 0]]\n",
      "points_1: [[ 0.47415988  0.73846026 -0.47942554]\n",
      " [-0.67261892 -0.0475419  -0.73846026]\n",
      " [-0.56811636  0.67261892  0.47415988]\n",
      " [-0.09395648  1.41107918 -0.00526566]\n",
      " [-1.24073528  0.62507702 -0.26430038]\n",
      " [-0.19845904  0.69091836 -1.2178858 ]]\n"
     ]
    }
   ],
   "source": [
    "# Generate test data\n",
    "\n",
    "# Points observed from pose 0:\n",
    "points_0 = np.array([\n",
    "    [1, 0, 0],\n",
    "    [0, 1, 0],\n",
    "    [0, 0, 1],\n",
    "    [1, 0, 1],\n",
    "    [0, 1, 1],\n",
    "    [1, 1, 0],\n",
    "])\n",
    "\n",
    "R_true = BF_PCA.euler2rot(1, 0.5, -1)\n",
    "t_true = np.array([[0],\n",
    "                   [0],\n",
    "                   [0],\n",
    "                  ])\n",
    "T_01_true = np.vstack([np.hstack([R_true, t_true]), np.array([[0, 0, 0, 1]])])\n",
    "T_01_true\n",
    "\n",
    "points_1 = BF_PCA.applyT(points_0, T_01_true)\n",
    "\n",
    "print('T_01_true:', T_01_true)\n",
    "print('points_0:', points_0)\n",
    "print('points_1:', points_1)"
   ]
  },
  {
   "cell_type": "code",
   "execution_count": 4,
   "id": "85fa6c69-520d-4de2-aac4-e8b652ba197d",
   "metadata": {},
   "outputs": [
    {
     "data": {
      "text/plain": [
       "SX(@1=1, @2=((sq(omega1)+sq(omega2))+sq(omega3)), @3=sqrt(@2), @4=1e-07, @5=(fabs(@3)<@4), @6=0.5, @7=-0.0416667, @8=0.00138889, @9=((@5?((@6+(@7*@2))+(@8*sq(@2))):0)+((!@5)?((@1-cos(@3))/@2):0)), @10=(@9*omega3), @11=(@9*omega2), @12=(fabs(@3)<@4), @13=-0.166667, @14=0.00833333, @15=((@12?((@1+(@13*@2))+(@14*sq(@2))):0)+((!@12)?(sin(@3)/@3):0)), @16=(@9*omega1), @17=(@9*omega1), @18=0, @19=(@9*omega3), @20=(@9*omega2), @21=((sq(omega1)+sq(omega2))+sq(omega3)), @22=sqrt(@21), @23=(fabs(@22)<@4), @24=((@1-((@23?((@1+(@13*@21))+(@14*sq(@21))):0)+((!@23)?(sin(@22)/@22):0)))/@21), @25=(@24*omega3), @26=(@24*omega2), @27=(fabs(@22)<@4), @28=((@27?((@6+(@7*@21))+(@8*sq(@21))):0)+((!@27)?((@1-cos(@22))/@21):0)), @29=(@24*omega1), @30=(@24*omega3), @31=(@24*omega1), @32=(@24*omega2), \n",
       "[[(@1-((@10*omega3)+(@11*omega2))), ((@11*omega1)-(@15*omega3)), ((@15*omega2)+(@10*omega1)), ((((@1-((@25*omega3)+(@26*omega2)))*u)+(((@26*omega1)-(@28*omega3))*v))+(((@28*omega2)+(@25*omega1))*w))], \n",
       " [((@15*omega3)+(@16*omega2)), (@1-((@19*omega3)+(@16*omega1))), ((@19*omega2)-(@15*omega1)), (((((@28*omega3)+(@29*omega2))*u)+((@1-((@30*omega3)+(@29*omega1)))*v))+(((@30*omega2)-(@28*omega1))*w))], \n",
       " [((@17*omega3)-(@15*omega2)), ((@15*omega1)+(@20*omega3)), (@1-((@20*omega2)+(@17*omega1))), (((((@31*omega3)-(@28*omega2))*u)+(((@28*omega1)+(@32*omega3))*v))+((@1-((@32*omega2)+(@31*omega1)))*w))], \n",
       " [@18, @18, @18, @1]])"
      ]
     },
     "execution_count": 4,
     "metadata": {},
     "output_type": "execute_result"
    }
   ],
   "source": [
    "import sys\n",
    "sys.path.insert(0, '../../')\n",
    "from pyecca.lie import se3, so3, matrix_lie_group\n",
    "SE3 = se3._SE3()\n",
    "T_sym = SE3.exp(SE3.wedge(all_sym))\n",
    "T_sym"
   ]
  },
  {
   "cell_type": "code",
   "execution_count": 5,
   "id": "5513718f-f140-40bd-a9a0-9980f764412c",
   "metadata": {},
   "outputs": [
    {
     "name": "stdout",
     "output_type": "stream",
     "text": [
      "\n",
      "******************************************************************************\n",
      "This program contains Ipopt, a library for large-scale nonlinear optimization.\n",
      " Ipopt is released as open source code under the Eclipse Public License (EPL).\n",
      "         For more information visit http://projects.coin-or.org/Ipopt\n",
      "******************************************************************************\n",
      "\n",
      "This is Ipopt version 3.12.3, running with linear solver mumps.\n",
      "NOTE: Other linear solvers might be more efficient (see Ipopt documentation).\n",
      "\n",
      "Number of nonzeros in equality constraint Jacobian...:        0\n",
      "Number of nonzeros in inequality constraint Jacobian.:        0\n",
      "Number of nonzeros in Lagrangian Hessian.............:       21\n",
      "\n",
      "Total number of variables............................:        6\n",
      "                     variables with only lower bounds:        0\n",
      "                variables with lower and upper bounds:        0\n",
      "                     variables with only upper bounds:        0\n",
      "Total number of equality constraints.................:        0\n",
      "Total number of inequality constraints...............:        1\n",
      "        inequality constraints with only lower bounds:        0\n",
      "   inequality constraints with lower and upper bounds:        0\n",
      "        inequality constraints with only upper bounds:        0\n",
      "\n",
      "iter    objective    inf_pr   inf_du lg(mu)  ||d||  lg(rg) alpha_du alpha_pr  ls\n",
      "   0  5.6181885e+01 0.00e+00 2.56e+01  -1.0 0.00e+00    -  0.00e+00 0.00e+00   0\n",
      "   1  4.4151680e+01 0.00e+00 2.25e+01  -1.0 2.26e-01   2.0 1.00e+00 1.00e+00f  1\n",
      "   2  2.0730627e+01 0.00e+00 1.48e+01  -1.0 5.61e-01   1.5 1.00e+00 1.00e+00f  1\n",
      "   3  2.4585045e+00 0.00e+00 3.82e+00  -1.0 1.00e+00   1.0 1.00e+00 1.00e+00f  1\n",
      "   4  1.2386742e-01 0.00e+00 9.33e-01  -1.0 7.33e-01    -  1.00e+00 1.00e+00f  1\n",
      "   5  2.1596459e-04 0.00e+00 4.38e-02  -1.7 1.96e-01    -  1.00e+00 1.00e+00f  1\n",
      "   6  1.6533335e-09 0.00e+00 9.85e-05  -2.5 9.12e-03    -  1.00e+00 1.00e+00f  1\n",
      "   7  1.1717215e-19 0.00e+00 8.97e-10  -5.7 2.54e-05    -  1.00e+00 1.00e+00f  1\n",
      "\n",
      "Number of Iterations....: 7\n",
      "\n",
      "                                   (scaled)                 (unscaled)\n",
      "Objective...............:   1.1717215472454526e-19    1.1717215472454526e-19\n",
      "Dual infeasibility......:   8.9713022767952530e-10    8.9713022767952530e-10\n",
      "Constraint violation....:   0.0000000000000000e+00    0.0000000000000000e+00\n",
      "Complementarity.........:   0.0000000000000000e+00    0.0000000000000000e+00\n",
      "Overall NLP error.......:   8.9713022767952530e-10    8.9713022767952530e-10\n",
      "\n",
      "\n",
      "Number of objective function evaluations             = 8\n",
      "Number of objective gradient evaluations             = 8\n",
      "Number of equality constraint evaluations            = 0\n",
      "Number of inequality constraint evaluations          = 8\n",
      "Number of equality constraint Jacobian evaluations   = 0\n",
      "Number of inequality constraint Jacobian evaluations = 8\n",
      "Number of Lagrangian Hessian evaluations             = 7\n",
      "Total CPU secs in IPOPT (w/o function evaluations)   =      0.002\n",
      "Total CPU secs in NLP function evaluations           =      0.000\n",
      "\n",
      "EXIT: Optimal Solution Found.\n",
      "           F  :   t_proc      (avg)   t_wall      (avg)    n_eval\n",
      "       nlp_f  |  30.00us (  3.75us)  30.03us (  3.75us)         8\n",
      "       nlp_g  |  20.00us (  2.50us)  19.30us (  2.41us)         8\n",
      "  nlp_grad_f  |  50.00us (  5.56us)  51.14us (  5.68us)         9\n",
      "  nlp_hess_l  | 155.00us ( 22.14us) 155.00us ( 22.14us)         7\n",
      "   nlp_jac_g  |  26.00us (  2.89us)  14.85us (  1.65us)         9\n",
      "       total  |   3.69ms (  3.69ms)   3.68ms (  3.68ms)         1\n"
     ]
    }
   ],
   "source": [
    "# Build casadi cost function\n",
    "J = BF_PCA.build_cost_pyecca(\n",
    "            points_0=points_0,\n",
    "            points_1=points_1,\n",
    "            all_sym=all_sym)\n",
    "\n",
    "# Setup and run optimizer\n",
    "# Symbols/expressions\n",
    "nlp = {}                 # NLP declaration\n",
    "nlp['x'] = all_sym       # decision vars\n",
    "nlp['f'] = J      # objective\n",
    "nlp['g'] = 0             # constraints\n",
    "\n",
    "# Create solver instance\n",
    "# opts = {'ipopt.print_level':0, 'print_time':0, 'ipopt.sb': 'yes'}\n",
    "# F = ca.nlpsol('F','ipopt',nlp,opts);\n",
    "F = ca.nlpsol('F','ipopt',nlp);\n",
    "\n",
    "# Solve the problem using a guess\n",
    "# This uses original landmark/measure association (associates which landmark we think the measurement is measuring)\n",
    "x_input = np.array([1, 1, 1, 1, 1, 1])\n",
    "optim = F(x0=x_input)"
   ]
  },
  {
   "cell_type": "code",
   "execution_count": 10,
   "id": "bf84b8c5-4c90-4401-ae04-77c3bafed4ba",
   "metadata": {},
   "outputs": [],
   "source": [
    "SE3 = se3._SE3()\n",
    "T_01_hat = SE3.exp(SE3.wedge(np.array(optim['x'])))\n",
    "\n",
    "# points_1 = BF_PCA.applyT(points_0, T_01_hat)\n",
    "# points_1"
   ]
  },
  {
   "cell_type": "code",
   "execution_count": 11,
   "id": "3e1779e4-bf0c-40f1-b946-acf8fc76e693",
   "metadata": {},
   "outputs": [
    {
     "data": {
      "text/plain": [
       "array([[ 0.47415988, -0.67261892, -0.56811636,  0.        ],\n",
       "       [ 0.73846026, -0.0475419 ,  0.67261892,  0.        ],\n",
       "       [-0.47942554, -0.73846026,  0.47415988,  0.        ],\n",
       "       [ 0.        ,  0.        ,  0.        ,  1.        ]])"
      ]
     },
     "execution_count": 11,
     "metadata": {},
     "output_type": "execute_result"
    }
   ],
   "source": [
    "T_01_true"
   ]
  },
  {
   "cell_type": "code",
   "execution_count": 12,
   "id": "2430eb7f-d56d-49a9-8bc5-0a4aebda718c",
   "metadata": {},
   "outputs": [
    {
     "data": {
      "text/plain": [
       "SX(@1=0, \n",
       "[[0.47416, -0.672619, -0.568116, -1.52455e-10], \n",
       " [0.73846, -0.0475419, 0.672619, -1.3717e-10], \n",
       " [-0.479426, -0.73846, 0.47416, -9.63762e-11], \n",
       " [@1, @1, @1, 1]])"
      ]
     },
     "execution_count": 12,
     "metadata": {},
     "output_type": "execute_result"
    }
   ],
   "source": [
    "T_01_hat"
   ]
  },
  {
   "cell_type": "code",
   "execution_count": 13,
   "id": "956807f3-0466-4be3-ab5d-e38985fc67a0",
   "metadata": {},
   "outputs": [
    {
     "data": {
      "text/plain": [
       "1.1717215472454526e-19"
      ]
     },
     "execution_count": 13,
     "metadata": {},
     "output_type": "execute_result"
    }
   ],
   "source": [
    "float(optim['f'])"
   ]
  },
  {
   "cell_type": "code",
   "execution_count": null,
   "id": "e8a1ff16-f9a6-47c3-8d72-39232ff09e1e",
   "metadata": {},
   "outputs": [],
   "source": []
  }
 ],
 "metadata": {
  "kernelspec": {
   "display_name": "Python 3 (ipykernel)",
   "language": "python",
   "name": "python3"
  },
  "language_info": {
   "codemirror_mode": {
    "name": "ipython",
    "version": 3
   },
   "file_extension": ".py",
   "mimetype": "text/x-python",
   "name": "python",
   "nbconvert_exporter": "python",
   "pygments_lexer": "ipython3",
   "version": "3.9.15"
  }
 },
 "nbformat": 4,
 "nbformat_minor": 5
}
