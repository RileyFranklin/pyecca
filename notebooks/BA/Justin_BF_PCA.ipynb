{
 "cells": [
  {
   "cell_type": "markdown",
   "id": "bb30e6d2-77c5-42a8-818a-ccefa29ab542",
   "metadata": {},
   "source": [
    "# Justin's Brute Force Point-Cloud Alignment (JBFPCA)\n",
    "\n",
    "Uses Casadi to optimize the transformation matrix T that minizies pointcloud measurement error. Uses a brute force method of feeding in euler angles (psi, theta, phi) and translations (x, y, z) into casadi and seeing what pops out. I'm thinking this will be slow but will produce more accurate results than the linear taylor series expansion as seen in Barfoot Ch. 7. More of a proof-of-concept than anything..."
   ]
  },
  {
   "cell_type": "markdown",
   "id": "358d4613-f760-46a8-869a-c36e2f3cea3b",
   "metadata": {},
   "source": [
    "# Problem Definition\n",
    "Feature location definition:\n",
    "$ \\\\ P_k = \\begin{bmatrix}  x \\\\ y \\\\ z \\\\ 1 \\end{bmatrix} \\approx p_{k,0}$\n",
    "\n",
    "Measurement of feature $k$ at pose $j$:\n",
    "$ \\\\ p_{k,j} $\n",
    "\n",
    "Transformation from pose $j$ to $j+1$:\n",
    "$ \\\\ T_{j,j+1} $\n",
    "\n",
    "Measurement error definition between poses $j$ and $j+1$ for feature $k$:\n",
    "$ \\\\ e_{k,j+1} = p_{k,j+1} - T_{j,j+1}*p_{k,j} $\n",
    "\n",
    "Cost function $J$:\n",
    "$ \\\\ J(T_{j,j+1}) = \\sum\\limits_{k} e_{k,j+1}^T*Q*e_{k,j+1}$\n",
    "\n",
    "So for pose $0$ to pose $1$:\n",
    "$ \\\\ J(T_{0,1}) = \\sum\\limits_{k} e_{k,1}^T*Q*e_{k,1} = \\sum\\limits_{k} (p_{k,1} - T_{0,1}*p_{k,0})^T*Q*(p_{k,1} - T_{0,1}*p_{k,0})$"
   ]
  },
  {
   "cell_type": "code",
   "execution_count": 1,
   "id": "23a97a6a-f1ce-45fb-b7a8-2ea6e877c5e5",
   "metadata": {},
   "outputs": [],
   "source": [
    "%load_ext autoreload\n",
    "%autoreload 2\n",
    "import matplotlib.pyplot as plt\n",
    "%matplotlib qt\n",
    "import numpy as np\n",
    "import casadi as ca\n",
    "import time\n",
    "import BF_PCA"
   ]
  },
  {
   "cell_type": "code",
   "execution_count": 2,
   "id": "13196c39-318f-4667-ac48-588fc72fe32e",
   "metadata": {},
   "outputs": [
    {
     "data": {
      "text/plain": [
       "SX([psi, theta, phi, x, y, z])"
      ]
     },
     "execution_count": 2,
     "metadata": {},
     "output_type": "execute_result"
    }
   ],
   "source": [
    "# Define symbolic variables used for optimization\n",
    "angles_sym = ca.vertcat(ca.SX.sym('psi'), ca.SX.sym('theta'), ca.SX.sym('phi'))\n",
    "trans_sym = ca.vertcat(ca.SX.sym('x'), ca.SX.sym('y'), ca.SX.sym('z'))\n",
    "all_sym = ca.vertcat(angles_sym, trans_sym)\n",
    "all_sym"
   ]
  },
  {
   "cell_type": "code",
   "execution_count": 3,
   "id": "96bfe4de-57d5-4c65-986b-edc5ebc2135d",
   "metadata": {},
   "outputs": [
    {
     "name": "stdout",
     "output_type": "stream",
     "text": [
      "T_01_true: [[ 0.47415988 -0.67261892 -0.56811636  1.        ]\n",
      " [ 0.73846026 -0.0475419   0.67261892  3.        ]\n",
      " [-0.47942554 -0.73846026  0.47415988  2.        ]\n",
      " [ 0.          0.          0.          1.        ]]\n",
      "points_0: [[1 0 0]\n",
      " [0 1 0]\n",
      " [0 0 1]\n",
      " [1 0 1]\n",
      " [0 1 1]\n",
      " [1 1 0]]\n",
      "points_1: [[ 1.47415988  3.73846026  1.52057446]\n",
      " [ 0.32738108  2.9524581   1.26153974]\n",
      " [ 0.43188364  3.67261892  2.47415988]\n",
      " [ 0.90604352  4.41107918  1.99473434]\n",
      " [-0.24073528  3.62507702  1.73569962]\n",
      " [ 0.80154096  3.69091836  0.7821142 ]]\n"
     ]
    }
   ],
   "source": [
    "# Generate test data\n",
    "\n",
    "# Points observed from pose 0:\n",
    "points_0 = np.array([\n",
    "    [1, 0, 0],\n",
    "    [0, 1, 0],\n",
    "    [0, 0, 1],\n",
    "    [1, 0, 1],\n",
    "    [0, 1, 1],\n",
    "    [1, 1, 0],\n",
    "])\n",
    "\n",
    "R_true = BF_PCA.euler2rot(1, 0.5, -1)\n",
    "t_true = np.array([[1],\n",
    "                   [3],\n",
    "                   [2],\n",
    "                  ])\n",
    "T_01_true = np.vstack([np.hstack([R_true, t_true]), np.array([[0, 0, 0, 1]])])\n",
    "T_01_true\n",
    "\n",
    "points_1 = BF_PCA.applyT(points_0, T_01_true)\n",
    "\n",
    "print('T_01_true:', T_01_true)\n",
    "print('points_0:', points_0)\n",
    "print('points_1:', points_1)"
   ]
  },
  {
   "cell_type": "code",
   "execution_count": 4,
   "id": "5513718f-f140-40bd-a9a0-9980f764412c",
   "metadata": {},
   "outputs": [
    {
     "name": "stdout",
     "output_type": "stream",
     "text": [
      "\n",
      "******************************************************************************\n",
      "This program contains Ipopt, a library for large-scale nonlinear optimization.\n",
      " Ipopt is released as open source code under the Eclipse Public License (EPL).\n",
      "         For more information visit http://projects.coin-or.org/Ipopt\n",
      "******************************************************************************\n",
      "\n",
      "This is Ipopt version 3.12.3, running with linear solver mumps.\n",
      "NOTE: Other linear solvers might be more efficient (see Ipopt documentation).\n",
      "\n",
      "Number of nonzeros in equality constraint Jacobian...:        0\n",
      "Number of nonzeros in inequality constraint Jacobian.:        0\n",
      "Number of nonzeros in Lagrangian Hessian.............:       17\n",
      "\n",
      "Total number of variables............................:        6\n",
      "                     variables with only lower bounds:        0\n",
      "                variables with lower and upper bounds:        0\n",
      "                     variables with only upper bounds:        0\n",
      "Total number of equality constraints.................:        0\n",
      "Total number of inequality constraints...............:        1\n",
      "        inequality constraints with only lower bounds:        0\n",
      "   inequality constraints with lower and upper bounds:        0\n",
      "        inequality constraints with only upper bounds:        0\n",
      "\n",
      "iter    objective    inf_pr   inf_du lg(mu)  ||d||  lg(rg) alpha_du alpha_pr  ls\n",
      "   0  7.3709924e+01 0.00e+00 3.82e+01  -1.0 0.00e+00    -  0.00e+00 0.00e+00   0\n",
      "   1  5.6070204e+01 0.00e+00 3.28e+01  -1.0 3.27e-01   2.0 1.00e+00 1.00e+00f  1\n",
      "   2  3.3729645e+00 0.00e+00 3.13e+00  -1.0 2.42e+00    -  1.00e+00 1.00e+00f  1\n",
      "   3  4.4175103e-01 0.00e+00 2.11e+00  -1.0 1.51e+00    -  1.00e+00 5.00e-01f  2\n",
      "   4  4.7247034e-03 0.00e+00 2.30e-01  -1.0 2.31e-01    -  1.00e+00 1.00e+00f  1\n",
      "   5  5.1011697e-06 0.00e+00 7.21e-03  -1.7 3.61e-02    -  1.00e+00 1.00e+00f  1\n",
      "   6  7.8022265e-12 0.00e+00 7.09e-06  -3.8 9.60e-04    -  1.00e+00 1.00e+00f  1\n",
      "   7  2.1542581e-23 0.00e+00 1.35e-11  -8.6 1.78e-06    -  1.00e+00 1.00e+00f  1\n",
      "\n",
      "Number of Iterations....: 7\n",
      "\n",
      "                                   (scaled)                 (unscaled)\n",
      "Objective...............:   2.1542580851504626e-23    2.1542580851504626e-23\n",
      "Dual infeasibility......:   1.3538503651489009e-11    1.3538503651489009e-11\n",
      "Constraint violation....:   0.0000000000000000e+00    0.0000000000000000e+00\n",
      "Complementarity.........:   0.0000000000000000e+00    0.0000000000000000e+00\n",
      "Overall NLP error.......:   1.3538503651489009e-11    1.3538503651489009e-11\n",
      "\n",
      "\n",
      "Number of objective function evaluations             = 13\n",
      "Number of objective gradient evaluations             = 8\n",
      "Number of equality constraint evaluations            = 0\n",
      "Number of inequality constraint evaluations          = 13\n",
      "Number of equality constraint Jacobian evaluations   = 0\n",
      "Number of inequality constraint Jacobian evaluations = 8\n",
      "Number of Lagrangian Hessian evaluations             = 7\n",
      "Total CPU secs in IPOPT (w/o function evaluations)   =      0.002\n",
      "Total CPU secs in NLP function evaluations           =      0.000\n",
      "\n",
      "EXIT: Optimal Solution Found.\n",
      "           F  :   t_proc      (avg)   t_wall      (avg)    n_eval\n",
      "       nlp_f  |  36.00us (  2.77us)  36.92us (  2.84us)        13\n",
      "       nlp_g  |  35.00us (  2.69us)  46.65us (  3.59us)        13\n",
      "  nlp_grad_f  |  53.00us (  5.89us)  53.28us (  5.92us)         9\n",
      "  nlp_hess_l  |  44.00us (  6.29us)  44.49us (  6.36us)         7\n",
      "   nlp_jac_g  |  16.00us (  1.78us)  17.19us (  1.91us)         9\n",
      "       total  |   4.07ms (  4.07ms)   4.04ms (  4.04ms)         1\n"
     ]
    }
   ],
   "source": [
    "# Build casadi cost function\n",
    "J = BF_PCA.build_cost(\n",
    "            points_0=points_0,\n",
    "            points_1=points_1,\n",
    "            all_sym=all_sym)\n",
    "\n",
    "# Setup and run optimizer\n",
    "# Symbols/expressions\n",
    "nlp = {}                 # NLP declaration\n",
    "nlp['x'] = all_sym       # decision vars\n",
    "nlp['f'] = J      # objective\n",
    "nlp['g'] = 0             # constraints\n",
    "\n",
    "# Create solver instance\n",
    "# opts = {'ipopt.print_level':0, 'print_time':0, 'ipopt.sb': 'yes'}\n",
    "# F = ca.nlpsol('F','ipopt',nlp,opts);\n",
    "F = ca.nlpsol('F','ipopt',nlp);\n",
    "\n",
    "# Solve the problem using a guess\n",
    "# This uses original landmark/measure association (associates which landmark we think the measurement is measuring)\n",
    "x_input = np.array([0, 0, 0, 0, 0, 0])\n",
    "optim = F(x0=x_input)"
   ]
  },
  {
   "cell_type": "code",
   "execution_count": 5,
   "id": "bf84b8c5-4c90-4401-ae04-77c3bafed4ba",
   "metadata": {},
   "outputs": [
    {
     "data": {
      "text/plain": [
       "array([[ 1.47415988,  3.73846026,  1.52057446],\n",
       "       [ 0.32738108,  2.9524581 ,  1.26153974],\n",
       "       [ 0.43188364,  3.67261892,  2.47415988],\n",
       "       [ 0.90604352,  4.41107918,  1.99473434],\n",
       "       [-0.24073528,  3.62507702,  1.73569962],\n",
       "       [ 0.80154096,  3.69091836,  0.7821142 ]])"
      ]
     },
     "execution_count": 5,
     "metadata": {},
     "output_type": "execute_result"
    }
   ],
   "source": [
    "xhat = np.array(optim['x'])\n",
    "\n",
    "euler_hat = xhat[0:3]\n",
    "R_hat = BF_PCA.euler2rot(euler_hat[0][0], euler_hat[1][0], euler_hat[2][0])\n",
    "t_hat = xhat[3:6]\n",
    "curr_cost = float(optim['f'])\n",
    "\n",
    "\n",
    "T_01_hat = np.vstack([np.hstack([R_hat, t_hat]), np.array([[0, 0, 0, 1]])])\n",
    "T_01_hat\n",
    "\n",
    "points_1 = BF_PCA.applyT(points_0, T_01_hat)\n",
    "points_1"
   ]
  },
  {
   "cell_type": "code",
   "execution_count": 6,
   "id": "3e1779e4-bf0c-40f1-b946-acf8fc76e693",
   "metadata": {},
   "outputs": [
    {
     "data": {
      "text/plain": [
       "array([[ 0.47415988, -0.67261892, -0.56811636,  1.        ],\n",
       "       [ 0.73846026, -0.0475419 ,  0.67261892,  3.        ],\n",
       "       [-0.47942554, -0.73846026,  0.47415988,  2.        ],\n",
       "       [ 0.        ,  0.        ,  0.        ,  1.        ]])"
      ]
     },
     "execution_count": 6,
     "metadata": {},
     "output_type": "execute_result"
    }
   ],
   "source": [
    "T_01_true"
   ]
  },
  {
   "cell_type": "code",
   "execution_count": 9,
   "id": "2430eb7f-d56d-49a9-8bc5-0a4aebda718c",
   "metadata": {},
   "outputs": [
    {
     "data": {
      "text/plain": [
       "array([[ 0.47415988, -0.67261892, -0.56811636,  1.        ],\n",
       "       [ 0.73846026, -0.0475419 ,  0.67261892,  3.        ],\n",
       "       [-0.47942554, -0.73846026,  0.47415988,  2.        ],\n",
       "       [ 0.        ,  0.        ,  0.        ,  1.        ]])"
      ]
     },
     "execution_count": 9,
     "metadata": {},
     "output_type": "execute_result"
    }
   ],
   "source": [
    "T_01_hat"
   ]
  },
  {
   "cell_type": "code",
   "execution_count": null,
   "id": "956807f3-0466-4be3-ab5d-e38985fc67a0",
   "metadata": {},
   "outputs": [],
   "source": []
  }
 ],
 "metadata": {
  "kernelspec": {
   "display_name": "Python 3 (ipykernel)",
   "language": "python",
   "name": "python3"
  },
  "language_info": {
   "codemirror_mode": {
    "name": "ipython",
    "version": 3
   },
   "file_extension": ".py",
   "mimetype": "text/x-python",
   "name": "python",
   "nbconvert_exporter": "python",
   "pygments_lexer": "ipython3",
   "version": "3.9.15"
  }
 },
 "nbformat": 4,
 "nbformat_minor": 5
}
