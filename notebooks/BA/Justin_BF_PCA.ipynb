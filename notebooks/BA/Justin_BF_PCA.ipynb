{
 "cells": [
  {
   "cell_type": "markdown",
   "id": "bb30e6d2-77c5-42a8-818a-ccefa29ab542",
   "metadata": {
    "tags": []
   },
   "source": [
    "# Justin's Brute Force Point-Cloud Alignment (JBFPCA)\n",
    "\n",
    "Uses Casadi to optimize the transformation matrix T that minizies pointcloud measurement error. Uses a brute force method of feeding in euler angles (psi, theta, phi) and translations (x, y, z) into casadi and seeing what pops out. I'm thinking this will be slow but will produce more accurate results than the linear taylor series expansion as seen in Barfoot Ch. 7. More of a proof-of-concept than anything..."
   ]
  },
  {
   "cell_type": "markdown",
   "id": "358d4613-f760-46a8-869a-c36e2f3cea3b",
   "metadata": {},
   "source": [
    "# Problem Definition\n",
    "Feature location definition:\n",
    "$ \\\\ P_k = \\begin{bmatrix}  x \\\\ y \\\\ z \\\\ 1 \\end{bmatrix} \\approx p_{k,0}$\n",
    "\n",
    "Measurement of feature $k$ at pose $j$:\n",
    "$ \\\\ p_{k,j} $\n",
    "\n",
    "Transformation from pose $j$ to $j+1$:\n",
    "$ \\\\ T_{j,j+1} $\n",
    "\n",
    "Measurement error definition between poses $j$ and $j+1$ for feature $k$:\n",
    "$ \\\\ e_{k,j+1} = p_{k,j+1} - T_{j,j+1}*p_{k,j} $\n",
    "\n",
    "Cost function $J$:\n",
    "$ \\\\ J(T_{j,j+1}) = \\sum\\limits_{k} e_{k,j+1}^T*Q*e_{k,j+1}$\n",
    "\n",
    "So for pose $0$ to pose $1$:\n",
    "$ \\\\ J(T_{0,1}) = \\sum\\limits_{k} e_{k,1}^T*Q*e_{k,1} = \\sum\\limits_{k} (p_{k,1} - T_{0,1}*p_{k,0})^T*Q*(p_{k,1} - T_{0,1}*p_{k,0})$"
   ]
  },
  {
   "cell_type": "code",
   "execution_count": 1,
   "id": "23a97a6a-f1ce-45fb-b7a8-2ea6e877c5e5",
   "metadata": {},
   "outputs": [],
   "source": [
    "%load_ext autoreload\n",
    "%autoreload 2\n",
    "import matplotlib.pyplot as plt\n",
    "%matplotlib qt\n",
    "import numpy as np\n",
    "import casadi as ca\n",
    "import time\n",
    "import BF_PCA"
   ]
  },
  {
   "cell_type": "code",
   "execution_count": 2,
   "id": "13196c39-318f-4667-ac48-588fc72fe32e",
   "metadata": {},
   "outputs": [
    {
     "data": {
      "text/plain": [
       "SX([psi, theta, phi, x, y, z])"
      ]
     },
     "execution_count": 2,
     "metadata": {},
     "output_type": "execute_result"
    }
   ],
   "source": [
    "# Define symbolic variables used for optimization\n",
    "angles_sym = ca.vertcat(ca.SX.sym('psi'), ca.SX.sym('theta'), ca.SX.sym('phi'))\n",
    "trans_sym = ca.vertcat(ca.SX.sym('x'), ca.SX.sym('y'), ca.SX.sym('z'))\n",
    "all_sym = ca.vertcat(angles_sym, trans_sym)\n",
    "all_sym"
   ]
  },
  {
   "cell_type": "code",
   "execution_count": 3,
   "id": "96bfe4de-57d5-4c65-986b-edc5ebc2135d",
   "metadata": {},
   "outputs": [
    {
     "name": "stdout",
     "output_type": "stream",
     "text": [
      "T_01_true: [[ 0.47415988 -0.67261892 -0.56811636  0.        ]\n",
      " [ 0.73846026 -0.0475419   0.67261892  0.        ]\n",
      " [-0.47942554 -0.73846026  0.47415988  0.        ]\n",
      " [ 0.          0.          0.          1.        ]]\n",
      "points_0: [[1 0 0]\n",
      " [0 1 0]\n",
      " [0 0 1]\n",
      " [1 0 1]\n",
      " [0 1 1]\n",
      " [1 1 0]]\n",
      "points_1: [[ 0.47415988  0.73846026 -0.47942554]\n",
      " [-0.67261892 -0.0475419  -0.73846026]\n",
      " [-0.56811636  0.67261892  0.47415988]\n",
      " [-0.09395648  1.41107918 -0.00526566]\n",
      " [-1.24073528  0.62507702 -0.26430038]\n",
      " [-0.19845904  0.69091836 -1.2178858 ]]\n"
     ]
    }
   ],
   "source": [
    "# Generate test data\n",
    "\n",
    "# Points observed from pose 0:\n",
    "points_0 = np.array([\n",
    "    [1, 0, 0],\n",
    "    [0, 1, 0],\n",
    "    [0, 0, 1],\n",
    "    [1, 0, 1],\n",
    "    [0, 1, 1],\n",
    "    [1, 1, 0],\n",
    "])\n",
    "\n",
    "R_true = BF_PCA.euler2rot(1, 0.5, -1)\n",
    "t_true = np.array([[0],\n",
    "                   [0],\n",
    "                   [0],\n",
    "                  ])\n",
    "T_01_true = np.vstack([np.hstack([R_true, t_true]), np.array([[0, 0, 0, 1]])])\n",
    "T_01_true\n",
    "\n",
    "points_1 = BF_PCA.applyT(points_0, T_01_true)\n",
    "\n",
    "print('T_01_true:', T_01_true)\n",
    "print('points_0:', points_0)\n",
    "print('points_1:', points_1)"
   ]
  },
  {
   "cell_type": "code",
   "execution_count": 4,
   "id": "5513718f-f140-40bd-a9a0-9980f764412c",
   "metadata": {},
   "outputs": [
    {
     "name": "stdout",
     "output_type": "stream",
     "text": [
      "\n",
      "******************************************************************************\n",
      "This program contains Ipopt, a library for large-scale nonlinear optimization.\n",
      " Ipopt is released as open source code under the Eclipse Public License (EPL).\n",
      "         For more information visit http://projects.coin-or.org/Ipopt\n",
      "******************************************************************************\n",
      "\n",
      "This is Ipopt version 3.12.3, running with linear solver mumps.\n",
      "NOTE: Other linear solvers might be more efficient (see Ipopt documentation).\n",
      "\n",
      "Number of nonzeros in equality constraint Jacobian...:        0\n",
      "Number of nonzeros in inequality constraint Jacobian.:        0\n",
      "Number of nonzeros in Lagrangian Hessian.............:       17\n",
      "\n",
      "Total number of variables............................:        6\n",
      "                     variables with only lower bounds:        0\n",
      "                variables with lower and upper bounds:        0\n",
      "                     variables with only upper bounds:        0\n",
      "Total number of equality constraints.................:        0\n",
      "Total number of inequality constraints...............:        1\n",
      "        inequality constraints with only lower bounds:        0\n",
      "   inequality constraints with lower and upper bounds:        0\n",
      "        inequality constraints with only upper bounds:        0\n",
      "\n",
      "iter    objective    inf_pr   inf_du lg(mu)  ||d||  lg(rg) alpha_du alpha_pr  ls\n",
      "   0  1.4690417e+01 0.00e+00 1.06e+01  -1.0 0.00e+00    -  0.00e+00 0.00e+00   0\n",
      "   1  1.1149651e+01 0.00e+00 9.22e+00  -1.0 9.42e-02   2.0 1.00e+00 1.00e+00f  1\n",
      "   2  4.9072592e+00 0.00e+00 6.92e+00  -1.0 2.42e-01   1.5 1.00e+00 1.00e+00f  1\n",
      "   3  6.6300000e-01 0.00e+00 2.02e+00  -1.0 3.80e-01   1.0 1.00e+00 1.00e+00f  1\n",
      "   4  2.1427289e-01 0.00e+00 1.92e+00  -1.0 4.17e-01    -  1.00e+00 1.00e+00f  1\n",
      "   5  2.5434765e-03 0.00e+00 1.07e-01  -1.0 1.04e-01    -  1.00e+00 1.00e+00f  1\n",
      "   6  1.3793819e-06 0.00e+00 4.22e-03  -2.5 2.02e-02    -  1.00e+00 1.00e+00f  1\n",
      "   7  2.9648099e-13 0.00e+00 1.17e-06  -3.8 3.28e-04    -  1.00e+00 1.00e+00f  1\n",
      "   8  2.2452193e-26 0.00e+00 4.95e-13  -8.6 1.99e-07    -  1.00e+00 1.00e+00f  1\n",
      "\n",
      "Number of Iterations....: 8\n",
      "\n",
      "                                   (scaled)                 (unscaled)\n",
      "Objective...............:   2.2452193399204564e-26    2.2452193399204564e-26\n",
      "Dual infeasibility......:   4.9486803543885571e-13    4.9486803543885571e-13\n",
      "Constraint violation....:   0.0000000000000000e+00    0.0000000000000000e+00\n",
      "Complementarity.........:   0.0000000000000000e+00    0.0000000000000000e+00\n",
      "Overall NLP error.......:   4.9486803543885571e-13    4.9486803543885571e-13\n",
      "\n",
      "\n",
      "Number of objective function evaluations             = 9\n",
      "Number of objective gradient evaluations             = 9\n",
      "Number of equality constraint evaluations            = 0\n",
      "Number of inequality constraint evaluations          = 9\n",
      "Number of equality constraint Jacobian evaluations   = 0\n",
      "Number of inequality constraint Jacobian evaluations = 9\n",
      "Number of Lagrangian Hessian evaluations             = 8\n",
      "Total CPU secs in IPOPT (w/o function evaluations)   =      0.002\n",
      "Total CPU secs in NLP function evaluations           =      0.000\n",
      "\n",
      "EXIT: Optimal Solution Found.\n",
      "           F  :   t_proc      (avg)   t_wall      (avg)    n_eval\n",
      "       nlp_f  |  33.00us (  3.67us)  33.23us (  3.69us)         9\n",
      "       nlp_g  |  27.00us (  3.00us)  26.01us (  2.89us)         9\n",
      "  nlp_grad_f  |  49.00us (  4.90us)  46.35us (  4.63us)        10\n",
      "  nlp_hess_l  |  95.00us ( 11.88us)  58.73us (  7.34us)         8\n",
      "   nlp_jac_g  |  41.00us (  4.10us)  19.76us (  1.98us)        10\n",
      "       total  |   4.71ms (  4.71ms)   7.34ms (  7.34ms)         1\n"
     ]
    }
   ],
   "source": [
    "# Build casadi cost function\n",
    "J = BF_PCA.build_cost(\n",
    "            points_0=points_0,\n",
    "            points_1=points_1,\n",
    "            all_sym=all_sym)\n",
    "\n",
    "# Setup and run optimizer\n",
    "# Symbols/expressions\n",
    "nlp = {}                 # NLP declaration\n",
    "nlp['x'] = all_sym       # decision vars\n",
    "nlp['f'] = J      # objective\n",
    "nlp['g'] = 0             # constraints\n",
    "\n",
    "# Create solver instance\n",
    "# opts = {'ipopt.print_level':0, 'print_time':0, 'ipopt.sb': 'yes'}\n",
    "# F = ca.nlpsol('F','ipopt',nlp,opts);\n",
    "F = ca.nlpsol('F','ipopt',nlp);\n",
    "\n",
    "# Solve the problem using a guess\n",
    "# This uses original landmark/measure association (associates which landmark we think the measurement is measuring)\n",
    "x_input = np.array([0, 0, 0, 0, 0, 0])\n",
    "optim = F(x0=x_input)"
   ]
  },
  {
   "cell_type": "code",
   "execution_count": 5,
   "id": "bf84b8c5-4c90-4401-ae04-77c3bafed4ba",
   "metadata": {},
   "outputs": [
    {
     "data": {
      "text/plain": [
       "array([[ 0.47415988,  0.73846026, -0.47942554],\n",
       "       [-0.67261892, -0.0475419 , -0.73846026],\n",
       "       [-0.56811636,  0.67261892,  0.47415988],\n",
       "       [-0.09395648,  1.41107918, -0.00526566],\n",
       "       [-1.24073528,  0.62507702, -0.26430038],\n",
       "       [-0.19845904,  0.69091836, -1.2178858 ]])"
      ]
     },
     "execution_count": 5,
     "metadata": {},
     "output_type": "execute_result"
    }
   ],
   "source": [
    "xhat = np.array(optim['x'])\n",
    "\n",
    "euler_hat = xhat[0:3]\n",
    "R_hat = BF_PCA.euler2rot(euler_hat[0][0], euler_hat[1][0], euler_hat[2][0])\n",
    "t_hat = xhat[3:6]\n",
    "curr_cost = float(optim['f'])\n",
    "\n",
    "\n",
    "T_01_hat = np.vstack([np.hstack([R_hat, t_hat]), np.array([[0, 0, 0, 1]])])\n",
    "T_01_hat\n",
    "\n",
    "points_1 = BF_PCA.applyT(points_0, T_01_hat)\n",
    "points_1"
   ]
  },
  {
   "cell_type": "code",
   "execution_count": 6,
   "id": "3e1779e4-bf0c-40f1-b946-acf8fc76e693",
   "metadata": {},
   "outputs": [
    {
     "data": {
      "text/plain": [
       "array([[ 0.47415988, -0.67261892, -0.56811636,  0.        ],\n",
       "       [ 0.73846026, -0.0475419 ,  0.67261892,  0.        ],\n",
       "       [-0.47942554, -0.73846026,  0.47415988,  0.        ],\n",
       "       [ 0.        ,  0.        ,  0.        ,  1.        ]])"
      ]
     },
     "execution_count": 6,
     "metadata": {},
     "output_type": "execute_result"
    }
   ],
   "source": [
    "T_01_true"
   ]
  },
  {
   "cell_type": "code",
   "execution_count": 7,
   "id": "2430eb7f-d56d-49a9-8bc5-0a4aebda718c",
   "metadata": {},
   "outputs": [
    {
     "data": {
      "text/plain": [
       "array([[ 4.74159882e-01, -6.72618918e-01, -5.68116360e-01,\n",
       "         4.68237128e-14],\n",
       "       [ 7.38460263e-01, -4.75418982e-02,  6.72618918e-01,\n",
       "        -1.09205777e-14],\n",
       "       [-4.79425539e-01, -7.38460263e-01,  4.74159882e-01,\n",
       "         4.36311004e-14],\n",
       "       [ 0.00000000e+00,  0.00000000e+00,  0.00000000e+00,\n",
       "         1.00000000e+00]])"
      ]
     },
     "execution_count": 7,
     "metadata": {},
     "output_type": "execute_result"
    }
   ],
   "source": [
    "T_01_hat"
   ]
  },
  {
   "cell_type": "code",
   "execution_count": 8,
   "id": "956807f3-0466-4be3-ab5d-e38985fc67a0",
   "metadata": {},
   "outputs": [
    {
     "data": {
      "text/plain": [
       "2.2452193399204564e-26"
      ]
     },
     "execution_count": 8,
     "metadata": {},
     "output_type": "execute_result"
    }
   ],
   "source": [
    "float(optim['f'])"
   ]
  },
  {
   "cell_type": "code",
   "execution_count": null,
   "id": "e8a1ff16-f9a6-47c3-8d72-39232ff09e1e",
   "metadata": {},
   "outputs": [],
   "source": []
  }
 ],
 "metadata": {
  "kernelspec": {
   "display_name": "Python 3 (ipykernel)",
   "language": "python",
   "name": "python3"
  },
  "language_info": {
   "codemirror_mode": {
    "name": "ipython",
    "version": 3
   },
   "file_extension": ".py",
   "mimetype": "text/x-python",
   "name": "python",
   "nbconvert_exporter": "python",
   "pygments_lexer": "ipython3",
   "version": "3.9.15"
  }
 },
 "nbformat": 4,
 "nbformat_minor": 5
}
