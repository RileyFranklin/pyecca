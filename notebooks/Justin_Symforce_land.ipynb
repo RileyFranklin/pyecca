{
 "cells": [
  {
   "cell_type": "code",
   "execution_count": 1,
   "id": "a74f303c-09bb-41f9-a46c-a17884785e8f",
   "metadata": {},
   "outputs": [],
   "source": [
    "import numpy as np\n",
    "import symforce\n",
    "symforce.set_epsilon_to_symbol()\n",
    "from symforce.values import Values\n",
    "from symforce.opt.factor import Factor\n",
    "import symforce.symbolic as sf\n",
    "from symforce.opt.optimizer import Optimizer"
   ]
  },
  {
   "cell_type": "code",
   "execution_count": 2,
   "id": "dcaf15c1-ce9e-4038-94b2-73efa40873dc",
   "metadata": {},
   "outputs": [],
   "source": [
    "def meas_residual(\n",
    "        pose: sf.V2, landmark: sf.V2, meas: sf.V2, epsilon: sf.Scalar, \n",
    "    ) -> sf.V1:\n",
    "\n",
    "        Q = np.array([[0.0,0.0],[0.0,0.0]])\n",
    "        rng_std = .5\n",
    "        bearing_std = .5\n",
    "        Q[0, 0] = rng_std**2\n",
    "        Q[1, 1] = bearing_std**2\n",
    "\n",
    "        Q_I = np.linalg.inv(Q)\n",
    "\n",
    "        rng, bearing = meas\n",
    "        # predicted measurement\n",
    "        dm = sf.V2(landmark - pose)\n",
    "        z_pred = sf.V2([[dm.norm(epsilon=epsilon)],[sf.atan2(dm[1], dm[0],epsilon=epsilon)]])\n",
    "\n",
    "        # error\n",
    "        e_z = meas - z_pred\n",
    "        # cost\n",
    "        J = e_z@Q_I@e_z.T\n",
    "\n",
    "        return sf.V1(J)"
   ]
  },
  {
   "cell_type": "code",
   "execution_count": 3,
   "id": "54ca3ff7-a647-43fc-9c58-c4f919d0bad2",
   "metadata": {},
   "outputs": [],
   "source": [
    "def odometry_residual(\n",
    "        pose_0: sf.V2, pose_1: sf.V2, odom: sf.V2, epsilon: sf.Scalar, \n",
    "    ) -> sf.V1:\n",
    "\n",
    "        R = np.array([[0.0,0.0],[0.0,0.0]]) \n",
    "        odom_x_std = 3\n",
    "        odom_y_std = 3\n",
    "        R[0, 0] = odom_x_std**2\n",
    "        R[1, 1] = odom_y_std**2\n",
    "        R_I = np.linalg.inv(R)\n",
    "\n",
    "        odom_pred = pose_1-pose_0    # error\n",
    "        e_x = sf.V2(odom-odom_pred)\n",
    "        # cost\n",
    "        J = e_x@R_I@e_x.T\n",
    "        return sf.V1(J)"
   ]
  },
  {
   "cell_type": "code",
   "execution_count": 11,
   "id": "3bc4b448-5369-49c0-ab1d-b20ea26657f9",
   "metadata": {},
   "outputs": [],
   "source": [
    "def optimize(x,lm,odom,z):\n",
    "    initial_values = Values(\n",
    "        poses=[sf.V2(i,j) for i,j in x],\n",
    "        landmarks=[sf.V2(i,j) for i,j in lm],\n",
    "        odom=[sf.V2(i,j) for i,j in odom],\n",
    "        meas=[sf.V2(i,j) for i,j,k,m in z],\n",
    "        epsilon=sf.numeric_epsilon,\n",
    "    )\n",
    "\n",
    "    factors = []\n",
    "\n",
    "    # Bearing factors\n",
    "\n",
    "    for j in range(len(z)):\n",
    "        factors.append(Factor(\n",
    "            residual=meas_residual,\n",
    "            keys=[f\"poses[{int(z[j][2])}]\", f\"landmarks[{int(z[j][3])}]\", f\"meas[{j}]\", \"epsilon\"],\n",
    "        ))\n",
    "\n",
    "    # Odometry factors\n",
    "    for i in range(len(x) - 1):\n",
    "        factors.append(Factor(\n",
    "            residual=odometry_residual,\n",
    "            keys=[f\"poses[{i}]\", f\"poses[{i + 1}]\", f\"odom[{i}]\", \"epsilon\"],\n",
    "        ))\n",
    "\n",
    "    params = Optimizer.Params(verbose=False)\n",
    "    optimizer = Optimizer(\n",
    "        factors=factors,\n",
    "        optimized_keys=[f\"poses[{i}]\" for i in range(len(x))],\n",
    "        params=params,\n",
    "    )\n",
    "\n",
    "    result = optimizer.optimize(initial_values)\n",
    "\n",
    "    return result, factors"
   ]
  },
  {
   "cell_type": "code",
   "execution_count": 12,
   "id": "b75c08f1-2b7a-4521-8d60-02ec2fe5ebea",
   "metadata": {},
   "outputs": [],
   "source": [
    "def update_init_values(initial_values, x, lm, odom, z):\n",
    "    # initial_values: Previous initial value dictionary generated\n",
    "    # x: Newest x,y coordinate from rover np.array([x, y]) that will be appended to old array\n",
    "    # lm: Newest SET of landmarks np.array([[x1,y1],[x2,y2],...]) that will replace old landmarks\n",
    "    # odom: Newest x,y odom from rover np.array([x, y]) that will be appended to old array\n",
    "    # z: Newest range, bearing, pose, landmark np.array([]) that will be appended to old array\n",
    "    \n",
    "    x_new = np.vstack([np.array(initial_values['poses']), x])\n",
    "    lm_new = lm\n",
    "    odom_new = np.vstack([np.array(initial_values['odom']), odom])\n",
    "    z_new = np.vstack([np.array(initial_values['meas']), z[:,0:2]])\n",
    "    \n",
    "    initial_values = Values(\n",
    "        poses=[sf.V2(i,j) for i,j in x_new],\n",
    "        landmarks=[sf.V2(i,j) for i,j in lm_new],\n",
    "        odom=[sf.V2(i,j) for i,j in odom_new],\n",
    "        meas=[sf.V2(i,j) for i,j in z_new],\n",
    "        epsilon=sf.numeric_epsilon,\n",
    "    )\n",
    "    \n",
    "    return initial_values"
   ]
  },
  {
   "cell_type": "code",
   "execution_count": 13,
   "id": "0e44d815-f182-4c57-bfc5-a79945e53b1c",
   "metadata": {},
   "outputs": [],
   "source": [
    "def update_factor_graph(factors, x, lm, odom, z):\n",
    "    # Bearing factors\n",
    "\n",
    "    for j in range(len(z)):\n",
    "        factors.append(Factor(\n",
    "            residual=meas_residual,\n",
    "            keys=[f\"poses[{int(z[j][2])}]\", f\"landmarks[{int(z[j][3])}]\", f\"meas[{j}]\", \"epsilon\"],\n",
    "        ))\n",
    "\n",
    "    # Odometry factors\n",
    "    for i in range(len(x) - 1):\n",
    "        factors.append(Factor(\n",
    "            residual=odometry_residual,\n",
    "            keys=[f\"poses[{i}]\", f\"poses[{i + 1}]\", f\"odom[{i}]\", \"epsilon\"],\n",
    "        ))"
   ]
  },
  {
   "cell_type": "code",
   "execution_count": 17,
   "id": "bcf5cb01-0377-495c-a8a4-78ae6d751668",
   "metadata": {},
   "outputs": [
    {
     "data": {
      "text/plain": [
       "'meas_residual'"
      ]
     },
     "execution_count": 17,
     "metadata": {},
     "output_type": "execute_result"
    }
   ],
   "source": [
    "lm =np.array([\n",
    "        [0, 2],\n",
    "        [4, 6],\n",
    "        [9, 1],\n",
    "        [4,2],\n",
    "        [9, 1.5],\n",
    "        [9,10],\n",
    "        [-5,15],\n",
    "        [-7,15],])\n",
    "x=np.array([[0,0],\n",
    "             [1.98,.001]])\n",
    "odom=np.array([[1.98,.001]])\n",
    "\n",
    "# Maybe do range, bearing, pose, landmark\n",
    "z = np.array([[2,1.57079633,0,0]])\n",
    "\n",
    "initial_values = Values(\n",
    "        poses=[sf.V2(i,j) for i,j in x],\n",
    "        landmarks=[sf.V2(i,j) for i,j in lm],\n",
    "        odom=[sf.V2(i,j) for i,j in odom],\n",
    "        meas=[sf.V2(i,j) for i,j,k,m in z],\n",
    "        epsilon=sf.numeric_epsilon,\n",
    "    )\n",
    "# initial_values['poses'] = []\n",
    "type(initial_values['poses'])\n",
    "initial_values['poses']\n",
    "np.vstack([np.array(initial_values['meas']), [2.0, 2.0]])\n",
    "\n",
    "optim, factors = optimize(x, lm, odom ,z)\n",
    "optim\n",
    "\n",
    "factors[0].name"
   ]
  },
  {
   "cell_type": "code",
   "execution_count": 22,
   "id": "e4141d3d-2c5d-4ddb-be24-bea7068115cd",
   "metadata": {},
   "outputs": [
    {
     "name": "stdout",
     "output_type": "stream",
     "text": [
      "<class 'float'>\n"
     ]
    }
   ],
   "source": [
    "xh = optim.optimized_values['poses']\n",
    "lh = optim.optimized_values['landmarks']\n",
    "\n",
    "print(type(optim.error()))"
   ]
  },
  {
   "cell_type": "code",
   "execution_count": 27,
   "id": "3ae7890d-fb60-42ed-89f0-1f7f0c386b14",
   "metadata": {},
   "outputs": [
    {
     "data": {
      "text/plain": [
       "1"
      ]
     },
     "execution_count": 27,
     "metadata": {},
     "output_type": "execute_result"
    }
   ],
   "source": [
    "factors\n",
    "\n",
    "z_num = 0\n",
    "for lcv in range(len(factors)):\n",
    "    if factors[lcv].name == 'meas_residual':\n",
    "        z_num += 1\n",
    "\n",
    "z_num"
   ]
  },
  {
   "cell_type": "code",
   "execution_count": 30,
   "id": "d1a4e8e7-a9b2-4026-a800-d8e18b77a63c",
   "metadata": {},
   "outputs": [
    {
     "data": {
      "text/plain": [
       "2"
      ]
     },
     "execution_count": 30,
     "metadata": {},
     "output_type": "execute_result"
    }
   ],
   "source": [
    "len(initial_values['poses'])"
   ]
  },
  {
   "cell_type": "code",
   "execution_count": 50,
   "id": "f123f787-27a4-4b3e-9e80-e6156d96ac47",
   "metadata": {},
   "outputs": [
    {
     "data": {
      "text/plain": [
       "symforce.geo.matrix.Matrix21"
      ]
     },
     "execution_count": 50,
     "metadata": {},
     "output_type": "execute_result"
    }
   ],
   "source": [
    "test_mat = sf.M(2,1)\n",
    "\n",
    "\n",
    "\n",
    "\n",
    "type(test_mat)"
   ]
  },
  {
   "cell_type": "code",
   "execution_count": null,
   "id": "5f2f22e7-2a79-4244-8578-5a031eb3109e",
   "metadata": {},
   "outputs": [],
   "source": []
  }
 ],
 "metadata": {
  "kernelspec": {
   "display_name": "Python 3 (ipykernel)",
   "language": "python",
   "name": "python3"
  },
  "language_info": {
   "codemirror_mode": {
    "name": "ipython",
    "version": 3
   },
   "file_extension": ".py",
   "mimetype": "text/x-python",
   "name": "python",
   "nbconvert_exporter": "python",
   "pygments_lexer": "ipython3",
   "version": "3.9.15"
  }
 },
 "nbformat": 4,
 "nbformat_minor": 5
}
