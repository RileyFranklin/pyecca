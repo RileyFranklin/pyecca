{
 "cells": [
  {
   "cell_type": "code",
   "execution_count": 1,
   "id": "0df689de-43db-4c8d-a45e-c3a18b69dea0",
   "metadata": {},
   "outputs": [],
   "source": [
    "import numpy as np\n",
    "import symforce\n",
    "symforce.set_epsilon_to_symbol()\n",
    "from symforce.values import Values\n",
    "from symforce.opt.factor import Factor\n",
    "import symforce.symbolic as sf\n"
   ]
  },
  {
   "cell_type": "code",
   "execution_count": 2,
   "id": "990c8e29-b804-49c0-a8d0-a0e467b2f6ca",
   "metadata": {},
   "outputs": [],
   "source": [
    "num_poses = 3\n",
    "num_landmarks = 3\n",
    "\n",
    "initial_values = Values(\n",
    "    poses=[sf.Pose2.identity()] * num_poses,\n",
    "    landmarks=[sf.V2(-2, 2), sf.V2(1, -3), sf.V2(5, 2)],\n",
    "    distances=[1.7, 1.4],\n",
    "    angles=np.deg2rad([[145, 335, 55], [185, 310, 70], [215, 310, 70]]).tolist(),\n",
    "    epsilon=sf.numeric_epsilon,\n",
    ")"
   ]
  },
  {
   "cell_type": "code",
   "execution_count": 3,
   "id": "be618b13-8f4e-48da-b45e-52cb9d860860",
   "metadata": {},
   "outputs": [],
   "source": [
    "def bearing_residual(\n",
    "    pose: sf.Pose2, landmark: sf.V2, angle: sf.Scalar, epsilon: sf.Scalar\n",
    ") -> sf.V1:\n",
    "    t_body = pose.inverse() * landmark\n",
    "    predicted_angle = sf.atan2(t_body[1], t_body[0], epsilon=epsilon)\n",
    "    return sf.V1(sf.wrap_angle(predicted_angle - angle))"
   ]
  },
  {
   "cell_type": "code",
   "execution_count": 4,
   "id": "f84c8c71-e6c3-4647-97c4-faf01f0e30ca",
   "metadata": {},
   "outputs": [],
   "source": [
    "def odometry_residual(\n",
    "    pose_a: sf.Pose2, pose_b: sf.Pose2, dist: sf.Scalar, epsilon: sf.Scalar\n",
    ") -> sf.V1:\n",
    "    return sf.V1((pose_b.t - pose_a.t).norm(epsilon=epsilon) - dist)\n"
   ]
  },
  {
   "cell_type": "code",
   "execution_count": 10,
   "id": "fdd920da-90f2-4784-b1c7-7e220ebced6b",
   "metadata": {},
   "outputs": [],
   "source": [
    "from symforce.opt.factor import Factor\n",
    "\n",
    "factors = []\n",
    "\n",
    "# Bearing factors\n",
    "for i in range(num_poses):\n",
    "    for j in range(num_landmarks):\n",
    "        factors.append(Factor(\n",
    "            residual=bearing_residual,\n",
    "            keys=[f\"pose[{i}]\", f\"landmarks[{j}]\", f\"angles[{i}][{j}]\", \"epsilon\"],\n",
    "        ))\n",
    "\n",
    "# Odometry factors\n",
    "for i in range(num_poses - 1):\n",
    "    factors.append(Factor(\n",
    "        residual=odometry_residual,\n",
    "        keys=[f\"poses[{i}]\", f\"poses[{i + 1}]\", f\"distances[{i}]\", \"epsilon\"],\n",
    "    ))"
   ]
  },
  {
   "cell_type": "code",
   "execution_count": 11,
   "id": "a73db4a8-c234-4613-8aec-716cd572879c",
   "metadata": {},
   "outputs": [
    {
     "ename": "AssertionError",
     "evalue": "Cannot compute a linearization with respect to 0 arguments",
     "output_type": "error",
     "traceback": [
      "\u001b[0;31m---------------------------------------------------------------------------\u001b[0m",
      "\u001b[0;31mAssertionError\u001b[0m                            Traceback (most recent call last)",
      "Input \u001b[0;32mIn [11]\u001b[0m, in \u001b[0;36m<cell line: 3>\u001b[0;34m()\u001b[0m\n\u001b[1;32m      1\u001b[0m \u001b[38;5;28;01mfrom\u001b[39;00m \u001b[38;5;21;01msymforce\u001b[39;00m\u001b[38;5;21;01m.\u001b[39;00m\u001b[38;5;21;01mopt\u001b[39;00m\u001b[38;5;21;01m.\u001b[39;00m\u001b[38;5;21;01moptimizer\u001b[39;00m \u001b[38;5;28;01mimport\u001b[39;00m Optimizer\n\u001b[0;32m----> 3\u001b[0m optimizer \u001b[38;5;241m=\u001b[39m \u001b[43mOptimizer\u001b[49m\u001b[43m(\u001b[49m\n\u001b[1;32m      4\u001b[0m \u001b[43m    \u001b[49m\u001b[43mfactors\u001b[49m\u001b[38;5;241;43m=\u001b[39;49m\u001b[43mfactors\u001b[49m\u001b[43m,\u001b[49m\n\u001b[1;32m      5\u001b[0m \u001b[43m    \u001b[49m\u001b[43moptimized_keys\u001b[49m\u001b[38;5;241;43m=\u001b[39;49m\u001b[43m[\u001b[49m\u001b[38;5;124;43mf\u001b[39;49m\u001b[38;5;124;43m\"\u001b[39;49m\u001b[38;5;124;43mposes[\u001b[39;49m\u001b[38;5;132;43;01m{\u001b[39;49;00m\u001b[43mi\u001b[49m\u001b[38;5;132;43;01m}\u001b[39;49;00m\u001b[38;5;124;43m]\u001b[39;49m\u001b[38;5;124;43m\"\u001b[39;49m\u001b[43m \u001b[49m\u001b[38;5;28;43;01mfor\u001b[39;49;00m\u001b[43m \u001b[49m\u001b[43mi\u001b[49m\u001b[43m \u001b[49m\u001b[38;5;129;43;01min\u001b[39;49;00m\u001b[43m \u001b[49m\u001b[38;5;28;43mrange\u001b[39;49m\u001b[43m(\u001b[49m\u001b[43mnum_poses\u001b[49m\u001b[43m)\u001b[49m\u001b[43m]\u001b[49m\u001b[43m,\u001b[49m\n\u001b[1;32m      6\u001b[0m \u001b[43m    \u001b[49m\u001b[38;5;66;43;03m# So that we save more information about each iteration, to visualize later:\u001b[39;49;00m\n\u001b[1;32m      7\u001b[0m \u001b[43m    \u001b[49m\u001b[43mdebug_stats\u001b[49m\u001b[38;5;241;43m=\u001b[39;49m\u001b[38;5;28;43;01mTrue\u001b[39;49;00m\u001b[43m,\u001b[49m\n\u001b[1;32m      8\u001b[0m \u001b[43m)\u001b[49m\n",
      "File \u001b[0;32m~/.local/lib/python3.10/site-packages/symforce/opt/optimizer.py:165\u001b[0m, in \u001b[0;36mOptimizer.__init__\u001b[0;34m(self, factors, optimized_keys, params, debug_stats)\u001b[0m\n\u001b[1;32m    162\u001b[0m     \u001b[38;5;66;03m# We compute the linearization in the same order as `optimized_keys`\u001b[39;00m\n\u001b[1;32m    163\u001b[0m     \u001b[38;5;66;03m# so that e.g. columns of the generated jacobians are in the same order\u001b[39;00m\n\u001b[1;32m    164\u001b[0m     factor_opt_keys \u001b[38;5;241m=\u001b[39m [opt_key \u001b[38;5;28;01mfor\u001b[39;00m opt_key \u001b[38;5;129;01min\u001b[39;00m optimized_keys \u001b[38;5;28;01mif\u001b[39;00m opt_key \u001b[38;5;129;01min\u001b[39;00m factor\u001b[38;5;241m.\u001b[39mkeys]\n\u001b[0;32m--> 165\u001b[0m     numeric_factors\u001b[38;5;241m.\u001b[39mappend(\u001b[43mfactor\u001b[49m\u001b[38;5;241;43m.\u001b[39;49m\u001b[43mto_numeric_factor\u001b[49m\u001b[43m(\u001b[49m\u001b[43mfactor_opt_keys\u001b[49m\u001b[43m)\u001b[49m)\n\u001b[1;32m    166\u001b[0m \u001b[38;5;28;01melse\u001b[39;00m:\n\u001b[1;32m    167\u001b[0m     \u001b[38;5;66;03m# Add unique keys to optimized keys\u001b[39;00m\n\u001b[1;32m    168\u001b[0m     \u001b[38;5;28mself\u001b[39m\u001b[38;5;241m.\u001b[39moptimized_keys\u001b[38;5;241m.\u001b[39mextend(\n\u001b[1;32m    169\u001b[0m         opt_key\n\u001b[1;32m    170\u001b[0m         \u001b[38;5;28;01mfor\u001b[39;00m opt_key \u001b[38;5;129;01min\u001b[39;00m factor\u001b[38;5;241m.\u001b[39moptimized_keys\n\u001b[1;32m    171\u001b[0m         \u001b[38;5;28;01mif\u001b[39;00m opt_key \u001b[38;5;129;01mnot\u001b[39;00m \u001b[38;5;129;01min\u001b[39;00m \u001b[38;5;28mself\u001b[39m\u001b[38;5;241m.\u001b[39moptimized_keys\n\u001b[1;32m    172\u001b[0m     )\n",
      "File \u001b[0;32m~/.local/lib/python3.10/site-packages/symforce/opt/factor.py:262\u001b[0m, in \u001b[0;36mFactor.to_numeric_factor\u001b[0;34m(self, optimized_keys, output_dir, namespace, sparse_linearization)\u001b[0m\n\u001b[1;32m    259\u001b[0m     namespace \u001b[38;5;241m=\u001b[39m \u001b[38;5;124mf\u001b[39m\u001b[38;5;124m\"\u001b[39m\u001b[38;5;124msym_\u001b[39m\u001b[38;5;132;01m{\u001b[39;00muuid\u001b[38;5;241m.\u001b[39muuid4()\u001b[38;5;241m.\u001b[39mhex\u001b[38;5;132;01m}\u001b[39;00m\u001b[38;5;124m\"\u001b[39m\n\u001b[1;32m    261\u001b[0m \u001b[38;5;66;03m# Compute the linearization of the residual and generate code\u001b[39;00m\n\u001b[0;32m--> 262\u001b[0m output_data \u001b[38;5;241m=\u001b[39m \u001b[38;5;28;43mself\u001b[39;49m\u001b[38;5;241;43m.\u001b[39;49m\u001b[43mgenerate\u001b[49m\u001b[43m(\u001b[49m\u001b[43moptimized_keys\u001b[49m\u001b[43m,\u001b[49m\u001b[43m \u001b[49m\u001b[43moutput_dir\u001b[49m\u001b[43m,\u001b[49m\u001b[43m \u001b[49m\u001b[43mnamespace\u001b[49m\u001b[43m,\u001b[49m\u001b[43m \u001b[49m\u001b[43msparse_linearization\u001b[49m\u001b[43m)\u001b[49m\n\u001b[1;32m    264\u001b[0m \u001b[38;5;66;03m# Load the generated function\u001b[39;00m\n\u001b[1;32m    265\u001b[0m numeric_factor \u001b[38;5;241m=\u001b[39m NumericFactor\u001b[38;5;241m.\u001b[39mfrom_file_python(\n\u001b[1;32m    266\u001b[0m     keys\u001b[38;5;241m=\u001b[39m\u001b[38;5;28mself\u001b[39m\u001b[38;5;241m.\u001b[39mkeys,\n\u001b[1;32m    267\u001b[0m     optimized_keys\u001b[38;5;241m=\u001b[39moptimized_keys,\n\u001b[0;32m   (...)\u001b[0m\n\u001b[1;32m    270\u001b[0m     name\u001b[38;5;241m=\u001b[39moutput_data[\u001b[38;5;124m\"\u001b[39m\u001b[38;5;124mname\u001b[39m\u001b[38;5;124m\"\u001b[39m],\n\u001b[1;32m    271\u001b[0m )\n",
      "File \u001b[0;32m~/.local/lib/python3.10/site-packages/symforce/opt/factor.py:178\u001b[0m, in \u001b[0;36mFactor.generate\u001b[0;34m(self, optimized_keys, output_dir, namespace, sparse_linearization)\u001b[0m\n\u001b[1;32m    175\u001b[0m     namespace \u001b[38;5;241m=\u001b[39m \u001b[38;5;124mf\u001b[39m\u001b[38;5;124m\"\u001b[39m\u001b[38;5;124msym_\u001b[39m\u001b[38;5;132;01m{\u001b[39;00muuid\u001b[38;5;241m.\u001b[39muuid4()\u001b[38;5;241m.\u001b[39mhex\u001b[38;5;132;01m}\u001b[39;00m\u001b[38;5;124m\"\u001b[39m\n\u001b[1;32m    177\u001b[0m codegen_keys \u001b[38;5;241m=\u001b[39m \u001b[38;5;28mlist\u001b[39m(\u001b[38;5;28mself\u001b[39m\u001b[38;5;241m.\u001b[39mcodegen\u001b[38;5;241m.\u001b[39minputs\u001b[38;5;241m.\u001b[39mkeys())\n\u001b[0;32m--> 178\u001b[0m codegen_with_linearization \u001b[38;5;241m=\u001b[39m \u001b[38;5;28;43mself\u001b[39;49m\u001b[38;5;241;43m.\u001b[39;49m\u001b[43mcodegen\u001b[49m\u001b[38;5;241;43m.\u001b[39;49m\u001b[43mwith_linearization\u001b[49m\u001b[43m(\u001b[49m\n\u001b[1;32m    179\u001b[0m \u001b[43m    \u001b[49m\u001b[43mwhich_args\u001b[49m\u001b[38;5;241;43m=\u001b[39;49m\u001b[43m[\u001b[49m\u001b[43mcodegen_keys\u001b[49m\u001b[43m[\u001b[49m\u001b[38;5;28;43mself\u001b[39;49m\u001b[38;5;241;43m.\u001b[39;49m\u001b[43mkeys\u001b[49m\u001b[38;5;241;43m.\u001b[39;49m\u001b[43mindex\u001b[49m\u001b[43m(\u001b[49m\u001b[43mkey\u001b[49m\u001b[43m)\u001b[49m\u001b[43m]\u001b[49m\u001b[43m \u001b[49m\u001b[38;5;28;43;01mfor\u001b[39;49;00m\u001b[43m \u001b[49m\u001b[43mkey\u001b[49m\u001b[43m \u001b[49m\u001b[38;5;129;43;01min\u001b[39;49;00m\u001b[43m \u001b[49m\u001b[43moptimized_keys\u001b[49m\u001b[43m]\u001b[49m\u001b[43m,\u001b[49m\n\u001b[1;32m    180\u001b[0m \u001b[43m    \u001b[49m\u001b[43mcustom_jacobian\u001b[49m\u001b[38;5;241;43m=\u001b[39;49m\u001b[38;5;28;43mself\u001b[39;49m\u001b[38;5;241;43m.\u001b[39;49m\u001b[43mcustom_jacobian_func\u001b[49m\u001b[43m(\u001b[49m\u001b[43moptimized_keys\u001b[49m\u001b[43m)\u001b[49m\n\u001b[1;32m    181\u001b[0m \u001b[43m    \u001b[49m\u001b[38;5;28;43;01mif\u001b[39;49;00m\u001b[43m \u001b[49m\u001b[38;5;28;43mself\u001b[39;49m\u001b[38;5;241;43m.\u001b[39;49m\u001b[43mcustom_jacobian_func\u001b[49m\u001b[43m \u001b[49m\u001b[38;5;129;43;01mis\u001b[39;49;00m\u001b[43m \u001b[49m\u001b[38;5;129;43;01mnot\u001b[39;49;00m\u001b[43m \u001b[49m\u001b[38;5;28;43;01mNone\u001b[39;49;00m\n\u001b[1;32m    182\u001b[0m \u001b[43m    \u001b[49m\u001b[38;5;28;43;01melse\u001b[39;49;00m\u001b[43m \u001b[49m\u001b[38;5;28;43;01mNone\u001b[39;49;00m\u001b[43m,\u001b[49m\n\u001b[1;32m    183\u001b[0m \u001b[43m    \u001b[49m\u001b[43msparse_linearization\u001b[49m\u001b[38;5;241;43m=\u001b[39;49m\u001b[43msparse_linearization\u001b[49m\u001b[43m,\u001b[49m\n\u001b[1;32m    184\u001b[0m \u001b[43m\u001b[49m\u001b[43m)\u001b[49m\n\u001b[1;32m    185\u001b[0m \u001b[38;5;66;03m# Ignore false positive because we define `self.jacobian` in `_initialize()`\u001b[39;00m\n\u001b[1;32m    186\u001b[0m \u001b[38;5;66;03m# pylint: disable=attribute-defined-outside-init\u001b[39;00m\n\u001b[1;32m    187\u001b[0m \u001b[38;5;28mself\u001b[39m\u001b[38;5;241m.\u001b[39mgenerated_jacobians[\u001b[38;5;28mtuple\u001b[39m(optimized_keys)] \u001b[38;5;241m=\u001b[39m codegen_with_linearization\u001b[38;5;241m.\u001b[39moutputs[\n\u001b[1;32m    188\u001b[0m     \u001b[38;5;124m\"\u001b[39m\u001b[38;5;124mjacobian\u001b[39m\u001b[38;5;124m\"\u001b[39m\n\u001b[1;32m    189\u001b[0m ]\n",
      "File \u001b[0;32m~/.local/lib/python3.10/site-packages/symforce/codegen/codegen.py:658\u001b[0m, in \u001b[0;36mCodegen.with_linearization\u001b[0;34m(self, which_args, include_result, name, linearization_mode, sparse_linearization, custom_jacobian)\u001b[0m\n\u001b[1;32m    655\u001b[0m \u001b[38;5;28;01mif\u001b[39;00m which_args \u001b[38;5;129;01mis\u001b[39;00m \u001b[38;5;28;01mNone\u001b[39;00m:\n\u001b[1;32m    656\u001b[0m     which_args \u001b[38;5;241m=\u001b[39m \u001b[38;5;28mlist\u001b[39m(\u001b[38;5;28mself\u001b[39m\u001b[38;5;241m.\u001b[39minputs\u001b[38;5;241m.\u001b[39mkeys())\n\u001b[0;32m--> 658\u001b[0m \u001b[38;5;28;01massert\u001b[39;00m which_args, \u001b[38;5;124m\"\u001b[39m\u001b[38;5;124mCannot compute a linearization with respect to 0 arguments\u001b[39m\u001b[38;5;124m\"\u001b[39m\n\u001b[1;32m    660\u001b[0m \u001b[38;5;66;03m# Ensure the previous codegen has one output\u001b[39;00m\n\u001b[1;32m    661\u001b[0m \u001b[38;5;28;01massert\u001b[39;00m \u001b[38;5;28mlen\u001b[39m(\u001b[38;5;28mlist\u001b[39m(\u001b[38;5;28mself\u001b[39m\u001b[38;5;241m.\u001b[39moutputs\u001b[38;5;241m.\u001b[39mkeys())) \u001b[38;5;241m==\u001b[39m \u001b[38;5;241m1\u001b[39m\n",
      "\u001b[0;31mAssertionError\u001b[0m: Cannot compute a linearization with respect to 0 arguments"
     ]
    }
   ],
   "source": [
    "from symforce.opt.optimizer import Optimizer\n",
    "\n",
    "optimizer = Optimizer(\n",
    "    factors=factors,\n",
    "    optimized_keys=[f\"poses[{i}]\" for i in range(num_poses)],\n",
    "    # So that we save more information about each iteration, to visualize later:\n",
    "    debug_stats=True,\n",
    ")"
   ]
  },
  {
   "cell_type": "code",
   "execution_count": null,
   "id": "22abe644-3e89-4f90-b7c5-4d22ee6365b8",
   "metadata": {},
   "outputs": [],
   "source": []
  }
 ],
 "metadata": {
  "kernelspec": {
   "display_name": "Python 3 (ipykernel)",
   "language": "python",
   "name": "python3"
  },
  "language_info": {
   "codemirror_mode": {
    "name": "ipython",
    "version": 3
   },
   "file_extension": ".py",
   "mimetype": "text/x-python",
   "name": "python",
   "nbconvert_exporter": "python",
   "pygments_lexer": "ipython3",
   "version": "3.10.6"
  }
 },
 "nbformat": 4,
 "nbformat_minor": 5
}
