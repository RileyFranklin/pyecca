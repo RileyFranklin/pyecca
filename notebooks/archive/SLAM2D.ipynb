{
 "cells": [
  {
   "cell_type": "markdown",
   "id": "da257791-734f-43b1-8624-a17dbe1428f5",
   "metadata": {},
   "source": [
    "# Graph SLAM Problem\n",
    "\n",
    "$\\min J(x_i) = x_0^T\\Omega_0 x_0 + \\sum_t e_t R_t^{-1} e_t  + \\sum_t \\sum_i \\tilde{z}^i_t  Q_t^{-1} \\tilde{z}^i_t \\$"
   ]
  },
  {
   "cell_type": "markdown",
   "id": "e47ff02f-b2a2-49d3-be8c-8875f205d328",
   "metadata": {},
   "source": [
    "$ e_t \\equiv x_t - g(u_t, x_{t-1})$ prediction error at time t"
   ]
  },
  {
   "cell_type": "markdown",
   "id": "f5ffa739-7a31-4758-af00-56de43ee9a1a",
   "metadata": {},
   "source": [
    "$\\tilde{z}^i_t \\equiv z^i_t - h(x_t, m^i_t)$ measurement error"
   ]
  },
  {
   "cell_type": "markdown",
   "id": "80b434b0-9b94-44c8-bf88-a08938ba9f93",
   "metadata": {},
   "source": [
    "$\\dot{p_x} = v_x$\n",
    "\n",
    "$\\dot{p_y} = v_y$\n",
    "\n",
    "$x_t = \\begin{bmatrix} p_x \\\\ p_y \\end{bmatrix}$\n",
    "$u_t = \\begin{bmatrix} v_x \\\\ v_y \\end{bmatrix}$\n",
    "\n",
    "$x_t = x_{t-1} + \\Delta_t u_t $"
   ]
  },
  {
   "cell_type": "markdown",
   "id": "844d1368-5c4d-4aab-9909-b2b43d83deae",
   "metadata": {},
   "source": [
    "$g(u_t, x_t{-1}) = x_{t-1}  + \\Delta_t u_t$"
   ]
  },
  {
   "cell_type": "markdown",
   "id": "e2efebbd-387a-4f88-99da-904ab0ea8f36",
   "metadata": {},
   "source": [
    "Landmarks are points. And our measurement is relative position."
   ]
  },
  {
   "cell_type": "code",
   "execution_count": 1,
   "id": "b5957f16-e16e-4e3c-bb68-00cb04eadc2d",
   "metadata": {},
   "outputs": [],
   "source": [
    "import matplotlib.pyplot as plt\n",
    "import numpy as np\n",
    "import casadi as ca\n",
    "import slam2d"
   ]
  },
  {
   "cell_type": "code",
   "execution_count": 3,
   "id": "eb30b1a3-4cdc-4719-908c-98a778519984",
   "metadata": {},
   "outputs": [
    {
     "name": "stdout",
     "output_type": "stream",
     "text": [
      "[[ 2.          1.57079633  0.        ]\n",
      " [ 2.82842712  2.35619449  1.        ]\n",
      " [ 3.20259425 -0.05503798  3.        ]\n",
      " [ 3.21409934  0.10092252  3.        ]\n",
      " [ 2.0242686  -0.70089855  4.        ]\n",
      " [ 1.74419124 -0.48001881  4.        ]\n",
      " [ 2.74447748 -1.51477816  5.        ]\n",
      " [ 2.2454363  -1.50231058  5.        ]]\n",
      "[[ 2.          0.        ]\n",
      " [ 3.96013316  0.39733866]\n",
      " [ 5.80225514  1.17617535]\n",
      " [ 7.45292637  2.30546029]\n",
      " [ 8.84633979  3.74017247]\n",
      " [ 9.9269444   5.42311444]\n",
      " [10.65165991  7.28719262]\n",
      " [10.9915942   9.25809208]\n",
      " [10.93319515 11.25723928]\n",
      " [10.47879096 13.20493454]]\n"
     ]
    },
    {
     "data": {
      "text/plain": [
       "2.9836506698447058e-30"
      ]
     },
     "execution_count": 3,
     "metadata": {},
     "output_type": "execute_result"
    },
    {
     "data": {
      "image/png": "[encoded data removed]",
      "text/plain": [
       "<Figure size 1000x500 with 1 Axes>"
      ]
     },
     "metadata": {},
     "output_type": "display_data"
    }
   ],
   "source": [
    "noise={\n",
    "    'odom_std': .10,\n",
    "    'bearing_std': 0,\n",
    "    'range_std': 0,\n",
    "    'odom_bx_bias': 0,\n",
    "    'odom_by_bias': 0\n",
    "}\n",
    "\n",
    "plt.figure(figsize=(10, 5))\n",
    "\n",
    "sim = slam2d.simulate(noise=noise, plot=True);\n",
    "\n",
    "print(sim['hist']['z'])\n",
    "print(sim['hist']['x'])\n",
    "\n",
    "slam2d.J_graph_slam(sim['hist'], sim['x_odom_hist'], sim['landmarks'])"
   ]
  },
  {
   "cell_type": "code",
   "execution_count": 3,
   "id": "462bec12-6a17-49a3-8ca2-1d771d2d3656",
   "metadata": {},
   "outputs": [
    {
     "name": "stdout",
     "output_type": "stream",
     "text": [
      "\n",
      "******************************************************************************\n",
      "This program contains Ipopt, a library for large-scale nonlinear optimization.\n",
      " Ipopt is released as open source code under the Eclipse Public License (EPL).\n",
      "         For more information visit http://projects.coin-or.org/Ipopt\n",
      "******************************************************************************\n",
      "\n",
      "This is Ipopt version 3.12.3, running with linear solver mumps.\n",
      "NOTE: Other linear solvers might be more efficient (see Ipopt documentation).\n",
      "\n",
      "Number of nonzeros in equality constraint Jacobian...:        0\n",
      "Number of nonzeros in inequality constraint Jacobian.:        0\n",
      "Number of nonzeros in Lagrangian Hessian.............:       67\n",
      "\n",
      "Total number of variables............................:       28\n",
      "                     variables with only lower bounds:        0\n",
      "                variables with lower and upper bounds:        0\n",
      "                     variables with only upper bounds:        0\n",
      "Total number of equality constraints.................:        0\n",
      "Total number of inequality constraints...............:        1\n",
      "        inequality constraints with only lower bounds:        0\n",
      "   inequality constraints with lower and upper bounds:        0\n",
      "        inequality constraints with only upper bounds:        0\n",
      "\n",
      "iter    objective    inf_pr   inf_du lg(mu)  ||d||  lg(rg) alpha_du alpha_pr  ls\n",
      "   0  4.0088478e-01 0.00e+00 1.48e+00  -1.0 0.00e+00    -  0.00e+00 0.00e+00   0\n",
      "   1  2.0088051e-01 0.00e+00 3.70e-02  -1.0 2.60e-01  -4.0 1.00e+00 1.00e+00f  1\n",
      "   2  2.0050275e-01 0.00e+00 1.01e-04  -2.5 1.30e-02  -4.5 1.00e+00 1.00e+00f  1\n",
      "   3  2.0050275e-01 0.00e+00 2.60e-09  -5.7 6.91e-05  -5.0 1.00e+00 1.00e+00f  1\n",
      "\n",
      "Number of Iterations....: 3\n",
      "\n",
      "                                   (scaled)                 (unscaled)\n",
      "Objective...............:   2.0050275177271959e-01    2.0050275177271959e-01\n",
      "Dual infeasibility......:   2.5950135183056000e-09    2.5950135183056000e-09\n",
      "Constraint violation....:   0.0000000000000000e+00    0.0000000000000000e+00\n",
      "Complementarity.........:   0.0000000000000000e+00    0.0000000000000000e+00\n",
      "Overall NLP error.......:   2.5950135183056000e-09    2.5950135183056000e-09\n",
      "\n",
      "\n",
      "Number of objective function evaluations             = 4\n",
      "Number of objective gradient evaluations             = 4\n",
      "Number of equality constraint evaluations            = 0\n",
      "Number of inequality constraint evaluations          = 4\n",
      "Number of equality constraint Jacobian evaluations   = 0\n",
      "Number of inequality constraint Jacobian evaluations = 4\n",
      "Number of Lagrangian Hessian evaluations             = 3\n",
      "Total CPU secs in IPOPT (w/o function evaluations)   =      0.011\n",
      "Total CPU secs in NLP function evaluations           =      0.001\n",
      "\n",
      "EXIT: Optimal Solution Found.\n",
      "           F  :   t_proc      (avg)   t_wall      (avg)    n_eval\n",
      "       nlp_f  | 164.00us ( 41.00us)  80.98us ( 20.25us)         4\n",
      "       nlp_g  | 138.00us ( 34.50us)  60.76us ( 15.19us)         4\n",
      "  nlp_grad_f  | 242.00us ( 48.40us) 119.57us ( 23.91us)         5\n",
      "  nlp_hess_l  | 165.00us ( 55.00us)  81.71us ( 27.24us)         3\n",
      "   nlp_jac_g  |  74.00us ( 14.80us)  33.84us (  6.77us)         5\n",
      "       total  |  21.30ms ( 21.30ms)  10.32ms ( 10.32ms)         1\n"
     ]
    },
    {
     "data": {
      "text/plain": [
       "{'f': DM(0.200503),\n",
       " 'g': DM(0),\n",
       " 'lam_g': DM(-0),\n",
       " 'lam_p': DM([]),\n",
       " 'lam_x': DM([0, 0, 0, 0, 0, 0, 0, 0, 0, 0, 0, 0, 0, 0, 0, 0, 0, 0, 0, 0, 0, 0, 0, 0, 0, 0, 0, 0]),\n",
       " 'x': DM([2, 3.96013, 5.80226, 7.45293, 8.84944, 9.93005, 10.6548, 10.9947, 10.9363, 10.4819, -3.98136e-10, 0.397339, 1.17618, 2.30546, 3.74157, 5.42451, 7.28859, 9.25949, 11.2586, 13.2063, 3.20657e-10, 4, 9.00976, 9.01452, 2, 6, 1.24978, 1.25267])}"
      ]
     },
     "execution_count": 3,
     "metadata": {},
     "output_type": "execute_result"
    }
   ],
   "source": [
    "# data from sim\n",
    "odom = sim['hist']['odom']\n",
    "l = sim['landmarks']\n",
    "z = sim['hist']['z']\n",
    "\n",
    "# initialize x guess from odom\n",
    "x0 = sim['hist']['x']\n",
    "x1 = x0[:,0]\n",
    "x2 = x0[:,1]\n",
    "l1 = l[:,0]\n",
    "l2 = l[:,1]\n",
    "x0_new = np.hstack([x1, x2, l1, l2])\n",
    "\n",
    "# compute data associations\n",
    "assoc = [ slam2d.data_association(x0[int(xi), :], np.array([rng, bearing]), l) for rng, bearing, xi in z ]\n",
    "assoc\n",
    "# print(z)\n",
    "# print()\n",
    "\n",
    "# build cost\n",
    "f_J, J = slam2d.build_cost(odom, z, assoc, x0.shape[0], l.shape[0])\n",
    "\n",
    "# compute cost , this is where we will send it to casadi nonlinear optim\n",
    "f_J(x0, l)\n",
    "\n",
    "# Symbols/expressions\n",
    "nlp = {}                 # NLP declaration\n",
    "nlp['x']= ca.vertcat(f_J.sx_in()[0][:,0], f_J.sx_in()[0][:,1], f_J.sx_in()[1][:,0], f_J.sx_in()[1][:,1]) # decision vars\n",
    "nlp['f'] = J           # objective\n",
    "nlp['g'] = 0             # constraints\n",
    "\n",
    "# Create solver instance\n",
    "F = ca.nlpsol('F','ipopt',nlp);\n",
    "\n",
    "# Solve the problem using a guess\n",
    "# This uses original landmark/measure association (associates which landmark we think the measurement is measuring)\n",
    "optim = F(x0=x0_new)\n",
    "optim\n",
    "\n",
    "# Re-associate landmark/measurements given new xstar positions"
   ]
  },
  {
   "cell_type": "code",
   "execution_count": 4,
   "id": "bb047503-c43f-45f5-9d45-8292421ed0ed",
   "metadata": {},
   "outputs": [
    {
     "data": {
      "text/plain": [
       "<matplotlib.legend.Legend at 0x7f083ff46050>"
      ]
     },
     "execution_count": 4,
     "metadata": {},
     "output_type": "execute_result"
    },
    {
     "data": {
      "image/png": "[encoded data removed]",
      "text/plain": [
       "<Figure size 1000x500 with 1 Axes>"
      ]
     },
     "metadata": {},
     "output_type": "display_data"
    }
   ],
   "source": [
    "hist = sim['hist']\n",
    "n_x = len(hist['x'])\n",
    "n_l = len(sim['landmarks'])\n",
    "xstar = np.zeros([n_x+1,2])\n",
    "xstar[1: :] = np.reshape(optim['x'][0:2*n_x], [n_x,2], order='F')\n",
    "lstar = np.reshape(optim['x'][2*n_x:None], [n_l,2], order='F')\n",
    "\n",
    "plt.figure(figsize=(10, 5))\n",
    "\n",
    "slam2d.plot_me(sim)\n",
    "plt.plot(xstar[:, 0], xstar[:, 1], 'y.', linewidth=3, label='xstar')\n",
    "plt.plot(lstar[:, 0], lstar[:, 1], 'ko', label='lstar')\n",
    "for rng, bearing, xi in hist['z']:\n",
    "    xi = int(xi)\n",
    "    x = xstar[xi, :]\n",
    "    plt.arrow(x[0], x[1], rng*np.cos(bearing) , rng*np.sin(bearing), width=0.1,\n",
    "                  length_includes_head=True)\n",
    "plt.legend()"
   ]
  },
  {
   "cell_type": "code",
   "execution_count": 5,
   "id": "8b2a43f3-c61e-484b-bdf0-4435d0341c90",
   "metadata": {},
   "outputs": [
    {
     "data": {
      "text/plain": [
       "array([0.60389214, 0.6884578 ])"
      ]
     },
     "execution_count": 5,
     "metadata": {},
     "output_type": "execute_result"
    }
   ],
   "source": [
    "np.random.rand(2)"
   ]
  },
  {
   "cell_type": "code",
   "execution_count": 7,
   "id": "0234a461-764c-4443-925f-64e6b408fd75",
   "metadata": {},
   "outputs": [
    {
     "data": {
      "text/plain": [
       "array([[ 0.        ,  0.        ],\n",
       "       [ 2.        ,  0.        ],\n",
       "       [ 3.96013316,  0.39733866],\n",
       "       [ 5.80225514,  1.17617535],\n",
       "       [ 7.45292637,  2.30546029],\n",
       "       [ 8.84633979,  3.74017247],\n",
       "       [ 9.9269444 ,  5.42311444],\n",
       "       [10.65165991,  7.28719262],\n",
       "       [10.9915942 ,  9.25809208],\n",
       "       [10.93319515, 11.25723928],\n",
       "       [10.47879096, 13.20493454]])"
      ]
     },
     "execution_count": 7,
     "metadata": {},
     "output_type": "execute_result"
    }
   ],
   "source": [
    "xstar"
   ]
  },
  {
   "cell_type": "code",
   "execution_count": null,
   "id": "734889ae-70a8-4312-95a7-7a4e65f982c2",
   "metadata": {},
   "outputs": [],
   "source": []
  },
  {
   "cell_type": "code",
   "execution_count": null,
   "id": "a993d6ec-91b7-4d5d-8bc0-6c26602b16cc",
   "metadata": {},
   "outputs": [],
   "source": []
  }
 ],
 "metadata": {
  "kernelspec": {
   "display_name": "Python 3 (ipykernel)",
   "language": "python",
   "name": "python3"
  },
  "language_info": {
   "codemirror_mode": {
    "name": "ipython",
    "version": 3
   },
   "file_extension": ".py",
   "mimetype": "text/x-python",
   "name": "python",
   "nbconvert_exporter": "python",
   "pygments_lexer": "ipython3",
   "version": "3.7.12"
  }
 },
 "nbformat": 4,
 "nbformat_minor": 5
}
